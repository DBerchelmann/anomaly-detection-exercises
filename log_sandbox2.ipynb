{
 "cells": [
  {
   "cell_type": "code",
   "execution_count": 1,
   "metadata": {},
   "outputs": [],
   "source": [
    "from __future__ import division\n",
    "import itertools\n",
    "import warnings\n",
    "warnings.filterwarnings(\"ignore\")\n",
    "\n",
    "import matplotlib.pyplot as plt\n",
    "import matplotlib.dates as mdates\n",
    "from matplotlib import style\n",
    "import seaborn as sns\n",
    "\n",
    "import numpy as np\n",
    "import pandas as pd\n",
    "import math\n",
    "from sklearn import metrics\n",
    "from random import randint\n",
    "\n",
    "import datetime\n",
    "from wrangle import get_connection, get_log_data, new_log_data\n",
    "\n",
    "\n",
    "%matplotlib inline"
   ]
  },
  {
   "cell_type": "code",
   "execution_count": 2,
   "metadata": {},
   "outputs": [],
   "source": [
    "df = get_log_data(cached=True)"
   ]
  },
  {
   "cell_type": "code",
   "execution_count": 3,
   "metadata": {},
   "outputs": [
    {
     "data": {
      "text/html": [
       "<div>\n",
       "<style scoped>\n",
       "    .dataframe tbody tr th:only-of-type {\n",
       "        vertical-align: middle;\n",
       "    }\n",
       "\n",
       "    .dataframe tbody tr th {\n",
       "        vertical-align: top;\n",
       "    }\n",
       "\n",
       "    .dataframe thead th {\n",
       "        text-align: right;\n",
       "    }\n",
       "</style>\n",
       "<table border=\"1\" class=\"dataframe\">\n",
       "  <thead>\n",
       "    <tr style=\"text-align: right;\">\n",
       "      <th></th>\n",
       "      <th>date</th>\n",
       "      <th>time</th>\n",
       "      <th>path</th>\n",
       "      <th>user_id</th>\n",
       "      <th>cohort_id</th>\n",
       "      <th>ip</th>\n",
       "      <th>id</th>\n",
       "      <th>name</th>\n",
       "      <th>slack</th>\n",
       "      <th>start_date</th>\n",
       "      <th>end_date</th>\n",
       "      <th>created_at</th>\n",
       "      <th>updated_at</th>\n",
       "      <th>deleted_at</th>\n",
       "      <th>program_id</th>\n",
       "    </tr>\n",
       "  </thead>\n",
       "  <tbody>\n",
       "    <tr>\n",
       "      <th>0</th>\n",
       "      <td>2018-01-26</td>\n",
       "      <td>09:55:03</td>\n",
       "      <td>/</td>\n",
       "      <td>1</td>\n",
       "      <td>8.0</td>\n",
       "      <td>97.105.19.61</td>\n",
       "      <td>8.0</td>\n",
       "      <td>Hampton</td>\n",
       "      <td>#hampton</td>\n",
       "      <td>2015-09-22</td>\n",
       "      <td>2016-02-06</td>\n",
       "      <td>2016-06-14 19:52:26</td>\n",
       "      <td>2016-06-14 19:52:26</td>\n",
       "      <td>NaN</td>\n",
       "      <td>1.0</td>\n",
       "    </tr>\n",
       "    <tr>\n",
       "      <th>1</th>\n",
       "      <td>2018-01-26</td>\n",
       "      <td>09:56:02</td>\n",
       "      <td>java-ii</td>\n",
       "      <td>1</td>\n",
       "      <td>8.0</td>\n",
       "      <td>97.105.19.61</td>\n",
       "      <td>8.0</td>\n",
       "      <td>Hampton</td>\n",
       "      <td>#hampton</td>\n",
       "      <td>2015-09-22</td>\n",
       "      <td>2016-02-06</td>\n",
       "      <td>2016-06-14 19:52:26</td>\n",
       "      <td>2016-06-14 19:52:26</td>\n",
       "      <td>NaN</td>\n",
       "      <td>1.0</td>\n",
       "    </tr>\n",
       "    <tr>\n",
       "      <th>2</th>\n",
       "      <td>2018-01-26</td>\n",
       "      <td>09:56:05</td>\n",
       "      <td>java-ii/object-oriented-programming</td>\n",
       "      <td>1</td>\n",
       "      <td>8.0</td>\n",
       "      <td>97.105.19.61</td>\n",
       "      <td>8.0</td>\n",
       "      <td>Hampton</td>\n",
       "      <td>#hampton</td>\n",
       "      <td>2015-09-22</td>\n",
       "      <td>2016-02-06</td>\n",
       "      <td>2016-06-14 19:52:26</td>\n",
       "      <td>2016-06-14 19:52:26</td>\n",
       "      <td>NaN</td>\n",
       "      <td>1.0</td>\n",
       "    </tr>\n",
       "    <tr>\n",
       "      <th>3</th>\n",
       "      <td>2018-01-26</td>\n",
       "      <td>09:56:06</td>\n",
       "      <td>slides/object_oriented_programming</td>\n",
       "      <td>1</td>\n",
       "      <td>8.0</td>\n",
       "      <td>97.105.19.61</td>\n",
       "      <td>8.0</td>\n",
       "      <td>Hampton</td>\n",
       "      <td>#hampton</td>\n",
       "      <td>2015-09-22</td>\n",
       "      <td>2016-02-06</td>\n",
       "      <td>2016-06-14 19:52:26</td>\n",
       "      <td>2016-06-14 19:52:26</td>\n",
       "      <td>NaN</td>\n",
       "      <td>1.0</td>\n",
       "    </tr>\n",
       "    <tr>\n",
       "      <th>4</th>\n",
       "      <td>2018-01-26</td>\n",
       "      <td>09:56:24</td>\n",
       "      <td>javascript-i/conditionals</td>\n",
       "      <td>2</td>\n",
       "      <td>22.0</td>\n",
       "      <td>97.105.19.61</td>\n",
       "      <td>22.0</td>\n",
       "      <td>Teddy</td>\n",
       "      <td>#teddy</td>\n",
       "      <td>2018-01-08</td>\n",
       "      <td>2018-05-17</td>\n",
       "      <td>2018-01-08 13:59:10</td>\n",
       "      <td>2018-01-08 13:59:10</td>\n",
       "      <td>NaN</td>\n",
       "      <td>2.0</td>\n",
       "    </tr>\n",
       "  </tbody>\n",
       "</table>\n",
       "</div>"
      ],
      "text/plain": [
       "         date      time                                 path  user_id  \\\n",
       "0  2018-01-26  09:55:03                                    /        1   \n",
       "1  2018-01-26  09:56:02                              java-ii        1   \n",
       "2  2018-01-26  09:56:05  java-ii/object-oriented-programming        1   \n",
       "3  2018-01-26  09:56:06   slides/object_oriented_programming        1   \n",
       "4  2018-01-26  09:56:24            javascript-i/conditionals        2   \n",
       "\n",
       "   cohort_id            ip    id     name     slack  start_date    end_date  \\\n",
       "0        8.0  97.105.19.61   8.0  Hampton  #hampton  2015-09-22  2016-02-06   \n",
       "1        8.0  97.105.19.61   8.0  Hampton  #hampton  2015-09-22  2016-02-06   \n",
       "2        8.0  97.105.19.61   8.0  Hampton  #hampton  2015-09-22  2016-02-06   \n",
       "3        8.0  97.105.19.61   8.0  Hampton  #hampton  2015-09-22  2016-02-06   \n",
       "4       22.0  97.105.19.61  22.0    Teddy    #teddy  2018-01-08  2018-05-17   \n",
       "\n",
       "            created_at           updated_at  deleted_at  program_id  \n",
       "0  2016-06-14 19:52:26  2016-06-14 19:52:26         NaN         1.0  \n",
       "1  2016-06-14 19:52:26  2016-06-14 19:52:26         NaN         1.0  \n",
       "2  2016-06-14 19:52:26  2016-06-14 19:52:26         NaN         1.0  \n",
       "3  2016-06-14 19:52:26  2016-06-14 19:52:26         NaN         1.0  \n",
       "4  2018-01-08 13:59:10  2018-01-08 13:59:10         NaN         2.0  "
      ]
     },
     "execution_count": 3,
     "metadata": {},
     "output_type": "execute_result"
    }
   ],
   "source": [
    "df.head()"
   ]
  },
  {
   "cell_type": "code",
   "execution_count": 4,
   "metadata": {},
   "outputs": [],
   "source": [
    "df.drop(columns='slack', inplace=True, axis=0)"
   ]
  },
  {
   "cell_type": "code",
   "execution_count": 5,
   "metadata": {},
   "outputs": [],
   "source": [
    "df.drop(columns='deleted_at', inplace=True, axis=0)"
   ]
  },
  {
   "cell_type": "code",
   "execution_count": 6,
   "metadata": {},
   "outputs": [
    {
     "data": {
      "text/html": [
       "<div>\n",
       "<style scoped>\n",
       "    .dataframe tbody tr th:only-of-type {\n",
       "        vertical-align: middle;\n",
       "    }\n",
       "\n",
       "    .dataframe tbody tr th {\n",
       "        vertical-align: top;\n",
       "    }\n",
       "\n",
       "    .dataframe thead th {\n",
       "        text-align: right;\n",
       "    }\n",
       "</style>\n",
       "<table border=\"1\" class=\"dataframe\">\n",
       "  <thead>\n",
       "    <tr style=\"text-align: right;\">\n",
       "      <th></th>\n",
       "      <th>date</th>\n",
       "      <th>time</th>\n",
       "      <th>path</th>\n",
       "      <th>user_id</th>\n",
       "      <th>cohort_id</th>\n",
       "      <th>ip</th>\n",
       "      <th>id</th>\n",
       "      <th>name</th>\n",
       "      <th>start_date</th>\n",
       "      <th>end_date</th>\n",
       "      <th>created_at</th>\n",
       "      <th>updated_at</th>\n",
       "      <th>program_id</th>\n",
       "    </tr>\n",
       "  </thead>\n",
       "  <tbody>\n",
       "    <tr>\n",
       "      <th>0</th>\n",
       "      <td>2018-01-26</td>\n",
       "      <td>09:55:03</td>\n",
       "      <td>/</td>\n",
       "      <td>1</td>\n",
       "      <td>8.0</td>\n",
       "      <td>97.105.19.61</td>\n",
       "      <td>8.0</td>\n",
       "      <td>Hampton</td>\n",
       "      <td>2015-09-22</td>\n",
       "      <td>2016-02-06</td>\n",
       "      <td>2016-06-14 19:52:26</td>\n",
       "      <td>2016-06-14 19:52:26</td>\n",
       "      <td>1.0</td>\n",
       "    </tr>\n",
       "    <tr>\n",
       "      <th>1</th>\n",
       "      <td>2018-01-26</td>\n",
       "      <td>09:56:02</td>\n",
       "      <td>java-ii</td>\n",
       "      <td>1</td>\n",
       "      <td>8.0</td>\n",
       "      <td>97.105.19.61</td>\n",
       "      <td>8.0</td>\n",
       "      <td>Hampton</td>\n",
       "      <td>2015-09-22</td>\n",
       "      <td>2016-02-06</td>\n",
       "      <td>2016-06-14 19:52:26</td>\n",
       "      <td>2016-06-14 19:52:26</td>\n",
       "      <td>1.0</td>\n",
       "    </tr>\n",
       "    <tr>\n",
       "      <th>2</th>\n",
       "      <td>2018-01-26</td>\n",
       "      <td>09:56:05</td>\n",
       "      <td>java-ii/object-oriented-programming</td>\n",
       "      <td>1</td>\n",
       "      <td>8.0</td>\n",
       "      <td>97.105.19.61</td>\n",
       "      <td>8.0</td>\n",
       "      <td>Hampton</td>\n",
       "      <td>2015-09-22</td>\n",
       "      <td>2016-02-06</td>\n",
       "      <td>2016-06-14 19:52:26</td>\n",
       "      <td>2016-06-14 19:52:26</td>\n",
       "      <td>1.0</td>\n",
       "    </tr>\n",
       "    <tr>\n",
       "      <th>3</th>\n",
       "      <td>2018-01-26</td>\n",
       "      <td>09:56:06</td>\n",
       "      <td>slides/object_oriented_programming</td>\n",
       "      <td>1</td>\n",
       "      <td>8.0</td>\n",
       "      <td>97.105.19.61</td>\n",
       "      <td>8.0</td>\n",
       "      <td>Hampton</td>\n",
       "      <td>2015-09-22</td>\n",
       "      <td>2016-02-06</td>\n",
       "      <td>2016-06-14 19:52:26</td>\n",
       "      <td>2016-06-14 19:52:26</td>\n",
       "      <td>1.0</td>\n",
       "    </tr>\n",
       "    <tr>\n",
       "      <th>4</th>\n",
       "      <td>2018-01-26</td>\n",
       "      <td>09:56:24</td>\n",
       "      <td>javascript-i/conditionals</td>\n",
       "      <td>2</td>\n",
       "      <td>22.0</td>\n",
       "      <td>97.105.19.61</td>\n",
       "      <td>22.0</td>\n",
       "      <td>Teddy</td>\n",
       "      <td>2018-01-08</td>\n",
       "      <td>2018-05-17</td>\n",
       "      <td>2018-01-08 13:59:10</td>\n",
       "      <td>2018-01-08 13:59:10</td>\n",
       "      <td>2.0</td>\n",
       "    </tr>\n",
       "  </tbody>\n",
       "</table>\n",
       "</div>"
      ],
      "text/plain": [
       "         date      time                                 path  user_id  \\\n",
       "0  2018-01-26  09:55:03                                    /        1   \n",
       "1  2018-01-26  09:56:02                              java-ii        1   \n",
       "2  2018-01-26  09:56:05  java-ii/object-oriented-programming        1   \n",
       "3  2018-01-26  09:56:06   slides/object_oriented_programming        1   \n",
       "4  2018-01-26  09:56:24            javascript-i/conditionals        2   \n",
       "\n",
       "   cohort_id            ip    id     name  start_date    end_date  \\\n",
       "0        8.0  97.105.19.61   8.0  Hampton  2015-09-22  2016-02-06   \n",
       "1        8.0  97.105.19.61   8.0  Hampton  2015-09-22  2016-02-06   \n",
       "2        8.0  97.105.19.61   8.0  Hampton  2015-09-22  2016-02-06   \n",
       "3        8.0  97.105.19.61   8.0  Hampton  2015-09-22  2016-02-06   \n",
       "4       22.0  97.105.19.61  22.0    Teddy  2018-01-08  2018-05-17   \n",
       "\n",
       "            created_at           updated_at  program_id  \n",
       "0  2016-06-14 19:52:26  2016-06-14 19:52:26         1.0  \n",
       "1  2016-06-14 19:52:26  2016-06-14 19:52:26         1.0  \n",
       "2  2016-06-14 19:52:26  2016-06-14 19:52:26         1.0  \n",
       "3  2016-06-14 19:52:26  2016-06-14 19:52:26         1.0  \n",
       "4  2018-01-08 13:59:10  2018-01-08 13:59:10         2.0  "
      ]
     },
     "execution_count": 6,
     "metadata": {},
     "output_type": "execute_result"
    }
   ],
   "source": [
    "df.head()"
   ]
  },
  {
   "cell_type": "code",
   "execution_count": 7,
   "metadata": {},
   "outputs": [
    {
     "data": {
      "text/html": [
       "<div>\n",
       "<style scoped>\n",
       "    .dataframe tbody tr th:only-of-type {\n",
       "        vertical-align: middle;\n",
       "    }\n",
       "\n",
       "    .dataframe tbody tr th {\n",
       "        vertical-align: top;\n",
       "    }\n",
       "\n",
       "    .dataframe thead th {\n",
       "        text-align: right;\n",
       "    }\n",
       "</style>\n",
       "<table border=\"1\" class=\"dataframe\">\n",
       "  <thead>\n",
       "    <tr style=\"text-align: right;\">\n",
       "      <th></th>\n",
       "      <th>date</th>\n",
       "      <th>time</th>\n",
       "      <th>path</th>\n",
       "      <th>user_id</th>\n",
       "      <th>cohort_id</th>\n",
       "      <th>ip</th>\n",
       "      <th>id</th>\n",
       "      <th>name</th>\n",
       "      <th>start_date</th>\n",
       "      <th>end_date</th>\n",
       "      <th>created_at</th>\n",
       "      <th>updated_at</th>\n",
       "      <th>program_id</th>\n",
       "    </tr>\n",
       "  </thead>\n",
       "  <tbody>\n",
       "    <tr>\n",
       "      <th>0</th>\n",
       "      <td>2018-01-26</td>\n",
       "      <td>09:55:03</td>\n",
       "      <td>/</td>\n",
       "      <td>1</td>\n",
       "      <td>8.0</td>\n",
       "      <td>97.105.19.61</td>\n",
       "      <td>8.0</td>\n",
       "      <td>Hampton</td>\n",
       "      <td>2015-09-22</td>\n",
       "      <td>2016-02-06</td>\n",
       "      <td>2016-06-14 19:52:26</td>\n",
       "      <td>2016-06-14 19:52:26</td>\n",
       "      <td>1.0</td>\n",
       "    </tr>\n",
       "    <tr>\n",
       "      <th>1</th>\n",
       "      <td>2018-01-26</td>\n",
       "      <td>09:56:02</td>\n",
       "      <td>java-ii</td>\n",
       "      <td>1</td>\n",
       "      <td>8.0</td>\n",
       "      <td>97.105.19.61</td>\n",
       "      <td>8.0</td>\n",
       "      <td>Hampton</td>\n",
       "      <td>2015-09-22</td>\n",
       "      <td>2016-02-06</td>\n",
       "      <td>2016-06-14 19:52:26</td>\n",
       "      <td>2016-06-14 19:52:26</td>\n",
       "      <td>1.0</td>\n",
       "    </tr>\n",
       "    <tr>\n",
       "      <th>2</th>\n",
       "      <td>2018-01-26</td>\n",
       "      <td>09:56:05</td>\n",
       "      <td>java-ii/object-oriented-programming</td>\n",
       "      <td>1</td>\n",
       "      <td>8.0</td>\n",
       "      <td>97.105.19.61</td>\n",
       "      <td>8.0</td>\n",
       "      <td>Hampton</td>\n",
       "      <td>2015-09-22</td>\n",
       "      <td>2016-02-06</td>\n",
       "      <td>2016-06-14 19:52:26</td>\n",
       "      <td>2016-06-14 19:52:26</td>\n",
       "      <td>1.0</td>\n",
       "    </tr>\n",
       "    <tr>\n",
       "      <th>3</th>\n",
       "      <td>2018-01-26</td>\n",
       "      <td>09:56:06</td>\n",
       "      <td>slides/object_oriented_programming</td>\n",
       "      <td>1</td>\n",
       "      <td>8.0</td>\n",
       "      <td>97.105.19.61</td>\n",
       "      <td>8.0</td>\n",
       "      <td>Hampton</td>\n",
       "      <td>2015-09-22</td>\n",
       "      <td>2016-02-06</td>\n",
       "      <td>2016-06-14 19:52:26</td>\n",
       "      <td>2016-06-14 19:52:26</td>\n",
       "      <td>1.0</td>\n",
       "    </tr>\n",
       "    <tr>\n",
       "      <th>4</th>\n",
       "      <td>2018-01-26</td>\n",
       "      <td>09:56:24</td>\n",
       "      <td>javascript-i/conditionals</td>\n",
       "      <td>2</td>\n",
       "      <td>22.0</td>\n",
       "      <td>97.105.19.61</td>\n",
       "      <td>22.0</td>\n",
       "      <td>Teddy</td>\n",
       "      <td>2018-01-08</td>\n",
       "      <td>2018-05-17</td>\n",
       "      <td>2018-01-08 13:59:10</td>\n",
       "      <td>2018-01-08 13:59:10</td>\n",
       "      <td>2.0</td>\n",
       "    </tr>\n",
       "  </tbody>\n",
       "</table>\n",
       "</div>"
      ],
      "text/plain": [
       "         date      time                                 path  user_id  \\\n",
       "0  2018-01-26  09:55:03                                    /        1   \n",
       "1  2018-01-26  09:56:02                              java-ii        1   \n",
       "2  2018-01-26  09:56:05  java-ii/object-oriented-programming        1   \n",
       "3  2018-01-26  09:56:06   slides/object_oriented_programming        1   \n",
       "4  2018-01-26  09:56:24            javascript-i/conditionals        2   \n",
       "\n",
       "   cohort_id            ip    id     name  start_date    end_date  \\\n",
       "0        8.0  97.105.19.61   8.0  Hampton  2015-09-22  2016-02-06   \n",
       "1        8.0  97.105.19.61   8.0  Hampton  2015-09-22  2016-02-06   \n",
       "2        8.0  97.105.19.61   8.0  Hampton  2015-09-22  2016-02-06   \n",
       "3        8.0  97.105.19.61   8.0  Hampton  2015-09-22  2016-02-06   \n",
       "4       22.0  97.105.19.61  22.0    Teddy  2018-01-08  2018-05-17   \n",
       "\n",
       "            created_at           updated_at  program_id  \n",
       "0  2016-06-14 19:52:26  2016-06-14 19:52:26         1.0  \n",
       "1  2016-06-14 19:52:26  2016-06-14 19:52:26         1.0  \n",
       "2  2016-06-14 19:52:26  2016-06-14 19:52:26         1.0  \n",
       "3  2016-06-14 19:52:26  2016-06-14 19:52:26         1.0  \n",
       "4  2018-01-08 13:59:10  2018-01-08 13:59:10         2.0  "
      ]
     },
     "execution_count": 7,
     "metadata": {},
     "output_type": "execute_result"
    }
   ],
   "source": [
    "df.head()"
   ]
  },
  {
   "cell_type": "code",
   "execution_count": 8,
   "metadata": {},
   "outputs": [],
   "source": [
    "df['date_time'] = df['date'].str.cat(df['time'],sep=\" \")"
   ]
  },
  {
   "cell_type": "code",
   "execution_count": 9,
   "metadata": {},
   "outputs": [
    {
     "data": {
      "text/html": [
       "<div>\n",
       "<style scoped>\n",
       "    .dataframe tbody tr th:only-of-type {\n",
       "        vertical-align: middle;\n",
       "    }\n",
       "\n",
       "    .dataframe tbody tr th {\n",
       "        vertical-align: top;\n",
       "    }\n",
       "\n",
       "    .dataframe thead th {\n",
       "        text-align: right;\n",
       "    }\n",
       "</style>\n",
       "<table border=\"1\" class=\"dataframe\">\n",
       "  <thead>\n",
       "    <tr style=\"text-align: right;\">\n",
       "      <th></th>\n",
       "      <th>date</th>\n",
       "      <th>time</th>\n",
       "      <th>path</th>\n",
       "      <th>user_id</th>\n",
       "      <th>cohort_id</th>\n",
       "      <th>ip</th>\n",
       "      <th>id</th>\n",
       "      <th>name</th>\n",
       "      <th>start_date</th>\n",
       "      <th>end_date</th>\n",
       "      <th>created_at</th>\n",
       "      <th>updated_at</th>\n",
       "      <th>program_id</th>\n",
       "      <th>date_time</th>\n",
       "    </tr>\n",
       "  </thead>\n",
       "  <tbody>\n",
       "    <tr>\n",
       "      <th>0</th>\n",
       "      <td>2018-01-26</td>\n",
       "      <td>09:55:03</td>\n",
       "      <td>/</td>\n",
       "      <td>1</td>\n",
       "      <td>8.0</td>\n",
       "      <td>97.105.19.61</td>\n",
       "      <td>8.0</td>\n",
       "      <td>Hampton</td>\n",
       "      <td>2015-09-22</td>\n",
       "      <td>2016-02-06</td>\n",
       "      <td>2016-06-14 19:52:26</td>\n",
       "      <td>2016-06-14 19:52:26</td>\n",
       "      <td>1.0</td>\n",
       "      <td>2018-01-26 09:55:03</td>\n",
       "    </tr>\n",
       "  </tbody>\n",
       "</table>\n",
       "</div>"
      ],
      "text/plain": [
       "         date      time path  user_id  cohort_id            ip   id     name  \\\n",
       "0  2018-01-26  09:55:03    /        1        8.0  97.105.19.61  8.0  Hampton   \n",
       "\n",
       "   start_date    end_date           created_at           updated_at  \\\n",
       "0  2015-09-22  2016-02-06  2016-06-14 19:52:26  2016-06-14 19:52:26   \n",
       "\n",
       "   program_id            date_time  \n",
       "0         1.0  2018-01-26 09:55:03  "
      ]
     },
     "execution_count": 9,
     "metadata": {},
     "output_type": "execute_result"
    }
   ],
   "source": [
    "df.head(1)"
   ]
  },
  {
   "cell_type": "code",
   "execution_count": 10,
   "metadata": {},
   "outputs": [],
   "source": [
    "\n",
    "\n",
    "df.date_time = pd.to_datetime(df.date_time)\n",
    "\n",
    "df = df.set_index('date_time').sort_index()"
   ]
  },
  {
   "cell_type": "code",
   "execution_count": null,
   "metadata": {},
   "outputs": [],
   "source": []
  },
  {
   "cell_type": "code",
   "execution_count": 11,
   "metadata": {},
   "outputs": [
    {
     "data": {
      "text/html": [
       "<div>\n",
       "<style scoped>\n",
       "    .dataframe tbody tr th:only-of-type {\n",
       "        vertical-align: middle;\n",
       "    }\n",
       "\n",
       "    .dataframe tbody tr th {\n",
       "        vertical-align: top;\n",
       "    }\n",
       "\n",
       "    .dataframe thead th {\n",
       "        text-align: right;\n",
       "    }\n",
       "</style>\n",
       "<table border=\"1\" class=\"dataframe\">\n",
       "  <thead>\n",
       "    <tr style=\"text-align: right;\">\n",
       "      <th></th>\n",
       "      <th>date</th>\n",
       "      <th>time</th>\n",
       "      <th>path</th>\n",
       "      <th>user_id</th>\n",
       "      <th>cohort_id</th>\n",
       "      <th>ip</th>\n",
       "      <th>id</th>\n",
       "      <th>name</th>\n",
       "      <th>start_date</th>\n",
       "      <th>end_date</th>\n",
       "      <th>created_at</th>\n",
       "      <th>updated_at</th>\n",
       "      <th>program_id</th>\n",
       "    </tr>\n",
       "    <tr>\n",
       "      <th>date_time</th>\n",
       "      <th></th>\n",
       "      <th></th>\n",
       "      <th></th>\n",
       "      <th></th>\n",
       "      <th></th>\n",
       "      <th></th>\n",
       "      <th></th>\n",
       "      <th></th>\n",
       "      <th></th>\n",
       "      <th></th>\n",
       "      <th></th>\n",
       "      <th></th>\n",
       "      <th></th>\n",
       "    </tr>\n",
       "  </thead>\n",
       "  <tbody>\n",
       "    <tr>\n",
       "      <th>2018-01-26 09:55:03</th>\n",
       "      <td>2018-01-26</td>\n",
       "      <td>09:55:03</td>\n",
       "      <td>/</td>\n",
       "      <td>1</td>\n",
       "      <td>8.0</td>\n",
       "      <td>97.105.19.61</td>\n",
       "      <td>8.0</td>\n",
       "      <td>Hampton</td>\n",
       "      <td>2015-09-22</td>\n",
       "      <td>2016-02-06</td>\n",
       "      <td>2016-06-14 19:52:26</td>\n",
       "      <td>2016-06-14 19:52:26</td>\n",
       "      <td>1.0</td>\n",
       "    </tr>\n",
       "    <tr>\n",
       "      <th>2018-01-26 09:56:02</th>\n",
       "      <td>2018-01-26</td>\n",
       "      <td>09:56:02</td>\n",
       "      <td>java-ii</td>\n",
       "      <td>1</td>\n",
       "      <td>8.0</td>\n",
       "      <td>97.105.19.61</td>\n",
       "      <td>8.0</td>\n",
       "      <td>Hampton</td>\n",
       "      <td>2015-09-22</td>\n",
       "      <td>2016-02-06</td>\n",
       "      <td>2016-06-14 19:52:26</td>\n",
       "      <td>2016-06-14 19:52:26</td>\n",
       "      <td>1.0</td>\n",
       "    </tr>\n",
       "    <tr>\n",
       "      <th>2018-01-26 09:56:05</th>\n",
       "      <td>2018-01-26</td>\n",
       "      <td>09:56:05</td>\n",
       "      <td>java-ii/object-oriented-programming</td>\n",
       "      <td>1</td>\n",
       "      <td>8.0</td>\n",
       "      <td>97.105.19.61</td>\n",
       "      <td>8.0</td>\n",
       "      <td>Hampton</td>\n",
       "      <td>2015-09-22</td>\n",
       "      <td>2016-02-06</td>\n",
       "      <td>2016-06-14 19:52:26</td>\n",
       "      <td>2016-06-14 19:52:26</td>\n",
       "      <td>1.0</td>\n",
       "    </tr>\n",
       "    <tr>\n",
       "      <th>2018-01-26 09:56:06</th>\n",
       "      <td>2018-01-26</td>\n",
       "      <td>09:56:06</td>\n",
       "      <td>slides/object_oriented_programming</td>\n",
       "      <td>1</td>\n",
       "      <td>8.0</td>\n",
       "      <td>97.105.19.61</td>\n",
       "      <td>8.0</td>\n",
       "      <td>Hampton</td>\n",
       "      <td>2015-09-22</td>\n",
       "      <td>2016-02-06</td>\n",
       "      <td>2016-06-14 19:52:26</td>\n",
       "      <td>2016-06-14 19:52:26</td>\n",
       "      <td>1.0</td>\n",
       "    </tr>\n",
       "    <tr>\n",
       "      <th>2018-01-26 09:56:24</th>\n",
       "      <td>2018-01-26</td>\n",
       "      <td>09:56:24</td>\n",
       "      <td>javascript-i/conditionals</td>\n",
       "      <td>2</td>\n",
       "      <td>22.0</td>\n",
       "      <td>97.105.19.61</td>\n",
       "      <td>22.0</td>\n",
       "      <td>Teddy</td>\n",
       "      <td>2018-01-08</td>\n",
       "      <td>2018-05-17</td>\n",
       "      <td>2018-01-08 13:59:10</td>\n",
       "      <td>2018-01-08 13:59:10</td>\n",
       "      <td>2.0</td>\n",
       "    </tr>\n",
       "  </tbody>\n",
       "</table>\n",
       "</div>"
      ],
      "text/plain": [
       "                           date      time  \\\n",
       "date_time                                   \n",
       "2018-01-26 09:55:03  2018-01-26  09:55:03   \n",
       "2018-01-26 09:56:02  2018-01-26  09:56:02   \n",
       "2018-01-26 09:56:05  2018-01-26  09:56:05   \n",
       "2018-01-26 09:56:06  2018-01-26  09:56:06   \n",
       "2018-01-26 09:56:24  2018-01-26  09:56:24   \n",
       "\n",
       "                                                    path  user_id  cohort_id  \\\n",
       "date_time                                                                      \n",
       "2018-01-26 09:55:03                                    /        1        8.0   \n",
       "2018-01-26 09:56:02                              java-ii        1        8.0   \n",
       "2018-01-26 09:56:05  java-ii/object-oriented-programming        1        8.0   \n",
       "2018-01-26 09:56:06   slides/object_oriented_programming        1        8.0   \n",
       "2018-01-26 09:56:24            javascript-i/conditionals        2       22.0   \n",
       "\n",
       "                               ip    id     name  start_date    end_date  \\\n",
       "date_time                                                                  \n",
       "2018-01-26 09:55:03  97.105.19.61   8.0  Hampton  2015-09-22  2016-02-06   \n",
       "2018-01-26 09:56:02  97.105.19.61   8.0  Hampton  2015-09-22  2016-02-06   \n",
       "2018-01-26 09:56:05  97.105.19.61   8.0  Hampton  2015-09-22  2016-02-06   \n",
       "2018-01-26 09:56:06  97.105.19.61   8.0  Hampton  2015-09-22  2016-02-06   \n",
       "2018-01-26 09:56:24  97.105.19.61  22.0    Teddy  2018-01-08  2018-05-17   \n",
       "\n",
       "                              created_at           updated_at  program_id  \n",
       "date_time                                                                  \n",
       "2018-01-26 09:55:03  2016-06-14 19:52:26  2016-06-14 19:52:26         1.0  \n",
       "2018-01-26 09:56:02  2016-06-14 19:52:26  2016-06-14 19:52:26         1.0  \n",
       "2018-01-26 09:56:05  2016-06-14 19:52:26  2016-06-14 19:52:26         1.0  \n",
       "2018-01-26 09:56:06  2016-06-14 19:52:26  2016-06-14 19:52:26         1.0  \n",
       "2018-01-26 09:56:24  2018-01-08 13:59:10  2018-01-08 13:59:10         2.0  "
      ]
     },
     "execution_count": 11,
     "metadata": {},
     "output_type": "execute_result"
    }
   ],
   "source": [
    "df.head()"
   ]
  },
  {
   "cell_type": "code",
   "execution_count": 12,
   "metadata": {
    "scrolled": true
   },
   "outputs": [],
   "source": [
    "df_easley = df.loc[df['name'] == 'Easley']\n",
    "\n"
   ]
  },
  {
   "cell_type": "code",
   "execution_count": null,
   "metadata": {},
   "outputs": [],
   "source": []
  },
  {
   "cell_type": "code",
   "execution_count": 13,
   "metadata": {},
   "outputs": [],
   "source": [
    "df_easley['day'] = df_easley.index.day_name()"
   ]
  },
  {
   "cell_type": "code",
   "execution_count": 14,
   "metadata": {},
   "outputs": [],
   "source": [
    "df_easley['month'] = df_easley.index.month_name()"
   ]
  },
  {
   "cell_type": "code",
   "execution_count": 15,
   "metadata": {},
   "outputs": [],
   "source": [
    "df['month'] = df.index.month_name()"
   ]
  },
  {
   "cell_type": "code",
   "execution_count": 16,
   "metadata": {},
   "outputs": [],
   "source": [
    "df['day'] = df.index.day_name()"
   ]
  },
  {
   "cell_type": "code",
   "execution_count": 17,
   "metadata": {},
   "outputs": [
    {
     "name": "stdout",
     "output_type": "stream",
     "text": [
      "<class 'pandas.core.frame.DataFrame'>\n",
      "DatetimeIndex: 14715 entries, 2020-12-08 10:49:37 to 2021-04-21 16:32:50\n",
      "Data columns (total 15 columns):\n",
      " #   Column      Non-Null Count  Dtype  \n",
      "---  ------      --------------  -----  \n",
      " 0   date        14715 non-null  object \n",
      " 1   time        14715 non-null  object \n",
      " 2   path        14715 non-null  object \n",
      " 3   user_id     14715 non-null  int64  \n",
      " 4   cohort_id   14715 non-null  float64\n",
      " 5   ip          14715 non-null  object \n",
      " 6   id          14715 non-null  float64\n",
      " 7   name        14715 non-null  object \n",
      " 8   start_date  14715 non-null  object \n",
      " 9   end_date    14715 non-null  object \n",
      " 10  created_at  14715 non-null  object \n",
      " 11  updated_at  14715 non-null  object \n",
      " 12  program_id  14715 non-null  float64\n",
      " 13  day         14715 non-null  object \n",
      " 14  month       14715 non-null  object \n",
      "dtypes: float64(3), int64(1), object(11)\n",
      "memory usage: 1.8+ MB\n"
     ]
    }
   ],
   "source": [
    "df_easley.info()"
   ]
  },
  {
   "cell_type": "code",
   "execution_count": 18,
   "metadata": {},
   "outputs": [
    {
     "data": {
      "text/html": [
       "<div>\n",
       "<style scoped>\n",
       "    .dataframe tbody tr th:only-of-type {\n",
       "        vertical-align: middle;\n",
       "    }\n",
       "\n",
       "    .dataframe tbody tr th {\n",
       "        vertical-align: top;\n",
       "    }\n",
       "\n",
       "    .dataframe thead th {\n",
       "        text-align: right;\n",
       "    }\n",
       "</style>\n",
       "<table border=\"1\" class=\"dataframe\">\n",
       "  <thead>\n",
       "    <tr style=\"text-align: right;\">\n",
       "      <th></th>\n",
       "      <th>date</th>\n",
       "      <th>time</th>\n",
       "      <th>path</th>\n",
       "      <th>user_id</th>\n",
       "      <th>cohort_id</th>\n",
       "      <th>ip</th>\n",
       "      <th>id</th>\n",
       "      <th>name</th>\n",
       "      <th>start_date</th>\n",
       "      <th>end_date</th>\n",
       "      <th>created_at</th>\n",
       "      <th>updated_at</th>\n",
       "      <th>program_id</th>\n",
       "      <th>day</th>\n",
       "      <th>month</th>\n",
       "    </tr>\n",
       "    <tr>\n",
       "      <th>date_time</th>\n",
       "      <th></th>\n",
       "      <th></th>\n",
       "      <th></th>\n",
       "      <th></th>\n",
       "      <th></th>\n",
       "      <th></th>\n",
       "      <th></th>\n",
       "      <th></th>\n",
       "      <th></th>\n",
       "      <th></th>\n",
       "      <th></th>\n",
       "      <th></th>\n",
       "      <th></th>\n",
       "      <th></th>\n",
       "      <th></th>\n",
       "    </tr>\n",
       "  </thead>\n",
       "  <tbody>\n",
       "    <tr>\n",
       "      <th>2020-12-08 10:49:37</th>\n",
       "      <td>2020-12-08</td>\n",
       "      <td>10:49:37</td>\n",
       "      <td>/</td>\n",
       "      <td>835</td>\n",
       "      <td>133.0</td>\n",
       "      <td>173.173.109.5</td>\n",
       "      <td>133.0</td>\n",
       "      <td>Easley</td>\n",
       "      <td>2020-12-07</td>\n",
       "      <td>2021-06-08</td>\n",
       "      <td>2020-12-07 15:20:18</td>\n",
       "      <td>2020-12-07 15:20:18</td>\n",
       "      <td>3.0</td>\n",
       "      <td>Tuesday</td>\n",
       "      <td>December</td>\n",
       "    </tr>\n",
       "    <tr>\n",
       "      <th>2020-12-08 10:49:39</th>\n",
       "      <td>2020-12-08</td>\n",
       "      <td>10:49:39</td>\n",
       "      <td>/</td>\n",
       "      <td>836</td>\n",
       "      <td>133.0</td>\n",
       "      <td>99.43.137.186</td>\n",
       "      <td>133.0</td>\n",
       "      <td>Easley</td>\n",
       "      <td>2020-12-07</td>\n",
       "      <td>2021-06-08</td>\n",
       "      <td>2020-12-07 15:20:18</td>\n",
       "      <td>2020-12-07 15:20:18</td>\n",
       "      <td>3.0</td>\n",
       "      <td>Tuesday</td>\n",
       "      <td>December</td>\n",
       "    </tr>\n",
       "    <tr>\n",
       "      <th>2020-12-08 10:49:40</th>\n",
       "      <td>2020-12-08</td>\n",
       "      <td>10:49:40</td>\n",
       "      <td>/</td>\n",
       "      <td>837</td>\n",
       "      <td>133.0</td>\n",
       "      <td>66.69.79.82</td>\n",
       "      <td>133.0</td>\n",
       "      <td>Easley</td>\n",
       "      <td>2020-12-07</td>\n",
       "      <td>2021-06-08</td>\n",
       "      <td>2020-12-07 15:20:18</td>\n",
       "      <td>2020-12-07 15:20:18</td>\n",
       "      <td>3.0</td>\n",
       "      <td>Tuesday</td>\n",
       "      <td>December</td>\n",
       "    </tr>\n",
       "    <tr>\n",
       "      <th>2020-12-08 10:49:52</th>\n",
       "      <td>2020-12-08</td>\n",
       "      <td>10:49:52</td>\n",
       "      <td>/</td>\n",
       "      <td>838</td>\n",
       "      <td>133.0</td>\n",
       "      <td>99.158.249.67</td>\n",
       "      <td>133.0</td>\n",
       "      <td>Easley</td>\n",
       "      <td>2020-12-07</td>\n",
       "      <td>2021-06-08</td>\n",
       "      <td>2020-12-07 15:20:18</td>\n",
       "      <td>2020-12-07 15:20:18</td>\n",
       "      <td>3.0</td>\n",
       "      <td>Tuesday</td>\n",
       "      <td>December</td>\n",
       "    </tr>\n",
       "    <tr>\n",
       "      <th>2020-12-08 10:50:16</th>\n",
       "      <td>2020-12-08</td>\n",
       "      <td>10:50:16</td>\n",
       "      <td>/</td>\n",
       "      <td>839</td>\n",
       "      <td>133.0</td>\n",
       "      <td>130.45.49.89</td>\n",
       "      <td>133.0</td>\n",
       "      <td>Easley</td>\n",
       "      <td>2020-12-07</td>\n",
       "      <td>2021-06-08</td>\n",
       "      <td>2020-12-07 15:20:18</td>\n",
       "      <td>2020-12-07 15:20:18</td>\n",
       "      <td>3.0</td>\n",
       "      <td>Tuesday</td>\n",
       "      <td>December</td>\n",
       "    </tr>\n",
       "  </tbody>\n",
       "</table>\n",
       "</div>"
      ],
      "text/plain": [
       "                           date      time path  user_id  cohort_id  \\\n",
       "date_time                                                            \n",
       "2020-12-08 10:49:37  2020-12-08  10:49:37    /      835      133.0   \n",
       "2020-12-08 10:49:39  2020-12-08  10:49:39    /      836      133.0   \n",
       "2020-12-08 10:49:40  2020-12-08  10:49:40    /      837      133.0   \n",
       "2020-12-08 10:49:52  2020-12-08  10:49:52    /      838      133.0   \n",
       "2020-12-08 10:50:16  2020-12-08  10:50:16    /      839      133.0   \n",
       "\n",
       "                                ip     id    name  start_date    end_date  \\\n",
       "date_time                                                                   \n",
       "2020-12-08 10:49:37  173.173.109.5  133.0  Easley  2020-12-07  2021-06-08   \n",
       "2020-12-08 10:49:39  99.43.137.186  133.0  Easley  2020-12-07  2021-06-08   \n",
       "2020-12-08 10:49:40    66.69.79.82  133.0  Easley  2020-12-07  2021-06-08   \n",
       "2020-12-08 10:49:52  99.158.249.67  133.0  Easley  2020-12-07  2021-06-08   \n",
       "2020-12-08 10:50:16   130.45.49.89  133.0  Easley  2020-12-07  2021-06-08   \n",
       "\n",
       "                              created_at           updated_at  program_id  \\\n",
       "date_time                                                                   \n",
       "2020-12-08 10:49:37  2020-12-07 15:20:18  2020-12-07 15:20:18         3.0   \n",
       "2020-12-08 10:49:39  2020-12-07 15:20:18  2020-12-07 15:20:18         3.0   \n",
       "2020-12-08 10:49:40  2020-12-07 15:20:18  2020-12-07 15:20:18         3.0   \n",
       "2020-12-08 10:49:52  2020-12-07 15:20:18  2020-12-07 15:20:18         3.0   \n",
       "2020-12-08 10:50:16  2020-12-07 15:20:18  2020-12-07 15:20:18         3.0   \n",
       "\n",
       "                         day     month  \n",
       "date_time                               \n",
       "2020-12-08 10:49:37  Tuesday  December  \n",
       "2020-12-08 10:49:39  Tuesday  December  \n",
       "2020-12-08 10:49:40  Tuesday  December  \n",
       "2020-12-08 10:49:52  Tuesday  December  \n",
       "2020-12-08 10:50:16  Tuesday  December  "
      ]
     },
     "execution_count": 18,
     "metadata": {},
     "output_type": "execute_result"
    }
   ],
   "source": [
    "df_easley.head()"
   ]
  },
  {
   "cell_type": "code",
   "execution_count": 19,
   "metadata": {},
   "outputs": [
    {
     "data": {
      "text/plain": [
       "March       268\n",
       "December    240\n",
       "February    193\n",
       "January     152\n",
       "April       121\n",
       "Name: month, dtype: int64"
      ]
     },
     "execution_count": 19,
     "metadata": {},
     "output_type": "execute_result"
    }
   ],
   "source": [
    "df_easley[df_easley['user_id'] == 835].month.value_counts()"
   ]
  },
  {
   "cell_type": "code",
   "execution_count": 21,
   "metadata": {},
   "outputs": [
    {
     "data": {
      "text/plain": [
       "name       month    \n",
       "Andromeda  April        6712\n",
       "           June         5654\n",
       "           May          5164\n",
       "           March        2685\n",
       "           July         2682\n",
       "                        ... \n",
       "Zion       July          594\n",
       "           September     566\n",
       "           August        383\n",
       "           October       296\n",
       "           December      214\n",
       "Name: month, Length: 440, dtype: int64"
      ]
     },
     "execution_count": 21,
     "metadata": {},
     "output_type": "execute_result"
    }
   ],
   "source": [
    "df.groupby(df['name']).month.value_counts()"
   ]
  },
  {
   "cell_type": "code",
   "execution_count": 22,
   "metadata": {},
   "outputs": [
    {
     "name": "stdout",
     "output_type": "stream",
     "text": [
      "user_id\n"
     ]
    },
    {
     "data": {
      "image/png": "[encoded data removed]",
      "text/plain": [
       "<Figure size 432x288 with 1 Axes>"
      ]
     },
     "metadata": {
      "needs_background": "light"
     },
     "output_type": "display_data"
    },
    {
     "name": "stdout",
     "output_type": "stream",
     "text": [
      "cohort_id\n"
     ]
    },
    {
     "data": {
      "image/png": "[encoded data removed]",
      "text/plain": [
       "<Figure size 432x288 with 1 Axes>"
      ]
     },
     "metadata": {
      "needs_background": "light"
     },
     "output_type": "display_data"
    },
    {
     "name": "stdout",
     "output_type": "stream",
     "text": [
      "id\n"
     ]
    },
    {
     "data": {
      "image/png": "[encoded data removed]",
      "text/plain": [
       "<Figure size 432x288 with 1 Axes>"
      ]
     },
     "metadata": {
      "needs_background": "light"
     },
     "output_type": "display_data"
    },
    {
     "name": "stdout",
     "output_type": "stream",
     "text": [
      "program_id\n"
     ]
    },
    {
     "data": {
      "image/png": "[encoded data removed]",
      "text/plain": [
       "<Figure size 432x288 with 1 Axes>"
      ]
     },
     "metadata": {
      "needs_background": "light"
     },
     "output_type": "display_data"
    }
   ],
   "source": [
    "for col in df.columns:\n",
    "    if np.issubdtype(df[col].dtype, np.number):\n",
    "        df[col].hist()\n",
    "        print(col)\n",
    "        plt.show()"
   ]
  },
  {
   "cell_type": "code",
   "execution_count": 24,
   "metadata": {},
   "outputs": [
    {
     "data": {
      "text/plain": [
       "<AxesSubplot:>"
      ]
     },
     "execution_count": 24,
     "metadata": {},
     "output_type": "execute_result"
    },
    {
     "data": {
      "image/png": "[encoded data removed]",
      "text/plain": [
       "<Figure size 432x288 with 1 Axes>"
      ]
     },
     "metadata": {
      "needs_background": "light"
     },
     "output_type": "display_data"
    }
   ],
   "source": [
    "df[df['name'] == \"Easley\"].user_id.value_counts().plot(kind='barh')"
   ]
  },
  {
   "cell_type": "code",
   "execution_count": 26,
   "metadata": {},
   "outputs": [
    {
     "data": {
      "text/plain": [
       "<AxesSubplot:>"
      ]
     },
     "execution_count": 26,
     "metadata": {},
     "output_type": "execute_result"
    },
    {
     "data": {
      "image/png": "[encoded data removed]",
      "text/plain": [
       "<Figure size 432x288 with 1 Axes>"
      ]
     },
     "metadata": {
      "needs_background": "light"
     },
     "output_type": "display_data"
    }
   ],
   "source": [
    "df[df['name'] == \"Easley\"].day.value_counts().plot(kind='barh')"
   ]
  },
  {
   "cell_type": "code",
   "execution_count": 27,
   "metadata": {},
   "outputs": [
    {
     "data": {
      "text/plain": [
       "<AxesSubplot:>"
      ]
     },
     "execution_count": 27,
     "metadata": {},
     "output_type": "execute_result"
    },
    {
     "data": {
      "image/png": "[encoded data removed]",
      "text/plain": [
       "<Figure size 432x288 with 1 Axes>"
      ]
     },
     "metadata": {
      "needs_background": "light"
     },
     "output_type": "display_data"
    }
   ],
   "source": [
    "df[df['name'] == \"Easley\"].month.value_counts().plot(kind='barh')"
   ]
  },
  {
   "cell_type": "code",
   "execution_count": 31,
   "metadata": {},
   "outputs": [
    {
     "data": {
      "text/plain": [
       "<AxesSubplot:>"
      ]
     },
     "execution_count": 31,
     "metadata": {},
     "output_type": "execute_result"
    },
    {
     "data": {
      "image/png": "[encoded data removed]",
      "text/plain": [
       "<Figure size 432x288 with 1 Axes>"
      ]
     },
     "metadata": {
      "needs_background": "light"
     },
     "output_type": "display_data"
    }
   ],
   "source": [
    "df[df['name'] == \"Darden\"].day.value_counts().plot(kind='barh')"
   ]
  },
  {
   "cell_type": "code",
   "execution_count": 32,
   "metadata": {},
   "outputs": [
    {
     "data": {
      "text/plain": [
       "<AxesSubplot:>"
      ]
     },
     "execution_count": 32,
     "metadata": {},
     "output_type": "execute_result"
    },
    {
     "data": {
      "image/png": "[encoded data removed]",
      "text/plain": [
       "<Figure size 432x288 with 1 Axes>"
      ]
     },
     "metadata": {
      "needs_background": "light"
     },
     "output_type": "display_data"
    }
   ],
   "source": [
    "df[df['name'] == \"Florence\"].day.value_counts().plot(kind='barh')"
   ]
  },
  {
   "cell_type": "code",
   "execution_count": null,
   "metadata": {},
   "outputs": [],
   "source": []
  },
  {
   "cell_type": "code",
   "execution_count": null,
   "metadata": {},
   "outputs": [],
   "source": []
  }
 ],
 "metadata": {
  "kernelspec": {
   "display_name": "Python 3",
   "language": "python",
   "name": "python3"
  },
  "language_info": {
   "codemirror_mode": {
    "name": "ipython",
    "version": 3
   },
   "file_extension": ".py",
   "mimetype": "text/x-python",
   "name": "python",
   "nbconvert_exporter": "python",
   "pygments_lexer": "ipython3",
   "version": "3.8.5"
  }
 },
 "nbformat": 4,
 "nbformat_minor": 4
}
