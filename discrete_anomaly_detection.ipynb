{
 "cells": [
  {
   "cell_type": "markdown",
   "metadata": {},
   "source": [
    "## Discrete Data + Probability\n",
    "- Use basic probability to identify anomalous request methods. You will want to make sure the text is normalized in order to reduce the noise."
   ]
  },
  {
   "cell_type": "code",
   "execution_count": 1,
   "metadata": {},
   "outputs": [],
   "source": [
    "from __future__ import division\n",
    "import itertools\n",
    "import warnings\n",
    "warnings.filterwarnings(\"ignore\")\n",
    "\n",
    "import matplotlib.pyplot as plt\n",
    "import matplotlib.dates as mdates\n",
    "from matplotlib import style\n",
    "import seaborn as sns\n",
    "\n",
    "import numpy as np\n",
    "import pandas as pd\n",
    "import math\n",
    "from sklearn import metrics\n",
    "from random import randint\n",
    "\n",
    "%matplotlib inline"
   ]
  },
  {
   "cell_type": "markdown",
   "metadata": {},
   "source": [
    "<h3>Acquire the Data</h3>"
   ]
  },
  {
   "cell_type": "code",
   "execution_count": 2,
   "metadata": {},
   "outputs": [],
   "source": [
    "colnames=['ip', 'timestamp', 'request_method', 'status', 'size',\n",
    "          'destination', 'request_agent']\n",
    "df_orig = pd.read_csv('http://python.zach.lol/access.log',          \n",
    "                 engine='python',\n",
    "                 header=None,\n",
    "                 index_col=False,\n",
    "                 names=colnames,\n",
    "                 sep=r'\\s(?=(?:[^\"]*\"[^\"]*\")*[^\"]*$)(?![^\\[]*\\])',\n",
    "                 na_values='\"-\"',\n",
    "                 usecols=[0, 3, 4, 5, 6, 7, 8]\n",
    ")\n",
    "\n",
    "new = pd.DataFrame([[\"95.31.18.119\", \"[21/Apr/2019:10:02:41+0000]\", \n",
    "                     \"GET /api/v1/items/HTTP/1.1\", 200, 1153005, np.nan, \n",
    "                     \"python-requests/2.21.0\"],\n",
    "                    [\"95.31.16.121\", \"[17/Apr/2019:19:36:41+0000]\", \n",
    "                     \"GET /api/v1/sales?page=79/HTTP/1.1\", 301, 1005, np.nan, \n",
    "                     \"python-requests/2.21.0\"],\n",
    "                    [\"97.105.15.120\", \"[18/Apr/2019:19:42:41+0000]\", \n",
    "                     \"GET /api/v1/sales?page=79/HTTP/1.1\", 301, 2560, np.nan, \n",
    "                     \"python-requests/2.21.0\"],\n",
    "                    [\"97.105.19.58\", \"[19/Apr/2019:19:42:41+0000]\", \n",
    "                     \"GET /api/v1/sales?page=79/HTTP/1.1\", 200, 2056327, np.nan, \n",
    "                     \"python-requests/2.21.0\"]], columns=colnames)\n",
    "\n",
    "df = df_orig.append(new)"
   ]
  },
  {
   "cell_type": "code",
   "execution_count": 3,
   "metadata": {},
   "outputs": [
    {
     "data": {
      "text/html": [
       "<div>\n",
       "<style scoped>\n",
       "    .dataframe tbody tr th:only-of-type {\n",
       "        vertical-align: middle;\n",
       "    }\n",
       "\n",
       "    .dataframe tbody tr th {\n",
       "        vertical-align: top;\n",
       "    }\n",
       "\n",
       "    .dataframe thead th {\n",
       "        text-align: right;\n",
       "    }\n",
       "</style>\n",
       "<table border=\"1\" class=\"dataframe\">\n",
       "  <thead>\n",
       "    <tr style=\"text-align: right;\">\n",
       "      <th></th>\n",
       "      <th>ip</th>\n",
       "      <th>timestamp</th>\n",
       "      <th>request_method</th>\n",
       "      <th>status</th>\n",
       "      <th>size</th>\n",
       "      <th>destination</th>\n",
       "      <th>request_agent</th>\n",
       "    </tr>\n",
       "  </thead>\n",
       "  <tbody>\n",
       "    <tr>\n",
       "      <th>0</th>\n",
       "      <td>97.105.19.58</td>\n",
       "      <td>[16/Apr/2019:19:34:42 +0000]</td>\n",
       "      <td>\"GET /api/v1/sales?page=81 HTTP/1.1\"</td>\n",
       "      <td>200</td>\n",
       "      <td>512495</td>\n",
       "      <td>NaN</td>\n",
       "      <td>\"python-requests/2.21.0\"</td>\n",
       "    </tr>\n",
       "    <tr>\n",
       "      <th>1</th>\n",
       "      <td>97.105.19.58</td>\n",
       "      <td>[16/Apr/2019:19:34:42 +0000]</td>\n",
       "      <td>\"GET /api/v1/items HTTP/1.1\"</td>\n",
       "      <td>200</td>\n",
       "      <td>3561</td>\n",
       "      <td>NaN</td>\n",
       "      <td>\"python-requests/2.21.0\"</td>\n",
       "    </tr>\n",
       "    <tr>\n",
       "      <th>2</th>\n",
       "      <td>97.105.19.58</td>\n",
       "      <td>[16/Apr/2019:19:34:44 +0000]</td>\n",
       "      <td>\"GET /api/v1/sales?page=82 HTTP/1.1\"</td>\n",
       "      <td>200</td>\n",
       "      <td>510103</td>\n",
       "      <td>NaN</td>\n",
       "      <td>\"python-requests/2.21.0\"</td>\n",
       "    </tr>\n",
       "    <tr>\n",
       "      <th>3</th>\n",
       "      <td>97.105.19.58</td>\n",
       "      <td>[16/Apr/2019:19:34:46 +0000]</td>\n",
       "      <td>\"GET /api/v1/sales?page=83 HTTP/1.1\"</td>\n",
       "      <td>200</td>\n",
       "      <td>510003</td>\n",
       "      <td>NaN</td>\n",
       "      <td>\"python-requests/2.21.0\"</td>\n",
       "    </tr>\n",
       "    <tr>\n",
       "      <th>4</th>\n",
       "      <td>97.105.19.58</td>\n",
       "      <td>[16/Apr/2019:19:34:48 +0000]</td>\n",
       "      <td>\"GET /api/v1/sales?page=84 HTTP/1.1\"</td>\n",
       "      <td>200</td>\n",
       "      <td>511963</td>\n",
       "      <td>NaN</td>\n",
       "      <td>\"python-requests/2.21.0\"</td>\n",
       "    </tr>\n",
       "  </tbody>\n",
       "</table>\n",
       "</div>"
      ],
      "text/plain": [
       "             ip                     timestamp  \\\n",
       "0  97.105.19.58  [16/Apr/2019:19:34:42 +0000]   \n",
       "1  97.105.19.58  [16/Apr/2019:19:34:42 +0000]   \n",
       "2  97.105.19.58  [16/Apr/2019:19:34:44 +0000]   \n",
       "3  97.105.19.58  [16/Apr/2019:19:34:46 +0000]   \n",
       "4  97.105.19.58  [16/Apr/2019:19:34:48 +0000]   \n",
       "\n",
       "                         request_method  status    size destination  \\\n",
       "0  \"GET /api/v1/sales?page=81 HTTP/1.1\"     200  512495         NaN   \n",
       "1          \"GET /api/v1/items HTTP/1.1\"     200    3561         NaN   \n",
       "2  \"GET /api/v1/sales?page=82 HTTP/1.1\"     200  510103         NaN   \n",
       "3  \"GET /api/v1/sales?page=83 HTTP/1.1\"     200  510003         NaN   \n",
       "4  \"GET /api/v1/sales?page=84 HTTP/1.1\"     200  511963         NaN   \n",
       "\n",
       "              request_agent  \n",
       "0  \"python-requests/2.21.0\"  \n",
       "1  \"python-requests/2.21.0\"  \n",
       "2  \"python-requests/2.21.0\"  \n",
       "3  \"python-requests/2.21.0\"  \n",
       "4  \"python-requests/2.21.0\"  "
      ]
     },
     "execution_count": 3,
     "metadata": {},
     "output_type": "execute_result"
    }
   ],
   "source": [
    "df.head()"
   ]
  },
  {
   "cell_type": "code",
   "execution_count": 4,
   "metadata": {},
   "outputs": [
    {
     "name": "stdout",
     "output_type": "stream",
     "text": [
      "<class 'pandas.core.frame.DataFrame'>\n",
      "Int64Index: 13978 entries, 0 to 3\n",
      "Data columns (total 7 columns):\n",
      " #   Column          Non-Null Count  Dtype \n",
      "---  ------          --------------  ----- \n",
      " 0   ip              13978 non-null  object\n",
      " 1   timestamp       13978 non-null  object\n",
      " 2   request_method  13978 non-null  object\n",
      " 3   status          13978 non-null  int64 \n",
      " 4   size            13978 non-null  int64 \n",
      " 5   destination     25 non-null     object\n",
      " 6   request_agent   13978 non-null  object\n",
      "dtypes: int64(2), object(5)\n",
      "memory usage: 873.6+ KB\n"
     ]
    }
   ],
   "source": [
    "df.info()"
   ]
  },
  {
   "cell_type": "code",
   "execution_count": 5,
   "metadata": {},
   "outputs": [
    {
     "data": {
      "text/plain": [
       "\"GET /api/v1/sales?page=2 HTTP/1.1\"                       709\n",
       "\"GET /api/v1/items HTTP/1.1\"                              464\n",
       "\"GET /api/v1/items?page=2 HTTP/1.1\"                       291\n",
       "\"GET /api/v1/items?page=3 HTTP/1.1\"                       219\n",
       "\"GET /api/v1/stores HTTP/1.1\"                             162\n",
       "                                                         ... \n",
       "\"GET /api/v1/helloclass! HTTP/1.1\"                          1\n",
       "\"GET /api/v1/items&page=0 HTTP/1.1\"                         1\n",
       "\"GET /api/v1/items?page=0 HTTP/1.1\"                         1\n",
       "\"GET /api/v1/I_DIDNT_DO_IT!!!! HTTP/1.1\"                    1\n",
       "\"GET /api/v1/items?page=99999999999999999998 HTTP/1.1\"      1\n",
       "Name: request_method, Length: 220, dtype: int64"
      ]
     },
     "execution_count": 5,
     "metadata": {},
     "output_type": "execute_result"
    }
   ],
   "source": [
    "df.request_method.value_counts()"
   ]
  },
  {
   "cell_type": "markdown",
   "metadata": {},
   "source": [
    "#### Parse Datetime:"
   ]
  },
  {
   "cell_type": "code",
   "execution_count": null,
   "metadata": {},
   "outputs": [],
   "source": []
  },
  {
   "cell_type": "code",
   "execution_count": 6,
   "metadata": {},
   "outputs": [],
   "source": [
    "# begin cleaning up the timestamp by removing the brackets and extraneous tail\n",
    "\n",
    "df.timestamp = df.timestamp.str.replace(r'(\\[|\\+0000\\])', '', regex=True)"
   ]
  },
  {
   "cell_type": "code",
   "execution_count": 7,
   "metadata": {},
   "outputs": [
    {
     "data": {
      "text/html": [
       "<div>\n",
       "<style scoped>\n",
       "    .dataframe tbody tr th:only-of-type {\n",
       "        vertical-align: middle;\n",
       "    }\n",
       "\n",
       "    .dataframe tbody tr th {\n",
       "        vertical-align: top;\n",
       "    }\n",
       "\n",
       "    .dataframe thead th {\n",
       "        text-align: right;\n",
       "    }\n",
       "</style>\n",
       "<table border=\"1\" class=\"dataframe\">\n",
       "  <thead>\n",
       "    <tr style=\"text-align: right;\">\n",
       "      <th></th>\n",
       "      <th>ip</th>\n",
       "      <th>timestamp</th>\n",
       "      <th>request_method</th>\n",
       "      <th>status</th>\n",
       "      <th>size</th>\n",
       "      <th>destination</th>\n",
       "      <th>request_agent</th>\n",
       "    </tr>\n",
       "  </thead>\n",
       "  <tbody>\n",
       "    <tr>\n",
       "      <th>0</th>\n",
       "      <td>97.105.19.58</td>\n",
       "      <td>16/Apr/2019:19:34:42</td>\n",
       "      <td>\"GET /api/v1/sales?page=81 HTTP/1.1\"</td>\n",
       "      <td>200</td>\n",
       "      <td>512495</td>\n",
       "      <td>NaN</td>\n",
       "      <td>\"python-requests/2.21.0\"</td>\n",
       "    </tr>\n",
       "  </tbody>\n",
       "</table>\n",
       "</div>"
      ],
      "text/plain": [
       "             ip              timestamp                        request_method  \\\n",
       "0  97.105.19.58  16/Apr/2019:19:34:42   \"GET /api/v1/sales?page=81 HTTP/1.1\"   \n",
       "\n",
       "   status    size destination             request_agent  \n",
       "0     200  512495         NaN  \"python-requests/2.21.0\"  "
      ]
     },
     "execution_count": 7,
     "metadata": {},
     "output_type": "execute_result"
    }
   ],
   "source": [
    "df.head(1)"
   ]
  },
  {
   "cell_type": "code",
   "execution_count": 8,
   "metadata": {},
   "outputs": [],
   "source": [
    "# replace the first colon in the timestamp before year \n",
    "# to accomodate for pandas datetime\n",
    "\n",
    "df.timestamp= pd.to_datetime(df.timestamp.str.replace(':', ' ', 1))\n",
    "\n",
    "# reset index to time\n",
    "df = df.set_index('timestamp')"
   ]
  },
  {
   "cell_type": "code",
   "execution_count": 9,
   "metadata": {},
   "outputs": [
    {
     "data": {
      "text/html": [
       "<div>\n",
       "<style scoped>\n",
       "    .dataframe tbody tr th:only-of-type {\n",
       "        vertical-align: middle;\n",
       "    }\n",
       "\n",
       "    .dataframe tbody tr th {\n",
       "        vertical-align: top;\n",
       "    }\n",
       "\n",
       "    .dataframe thead th {\n",
       "        text-align: right;\n",
       "    }\n",
       "</style>\n",
       "<table border=\"1\" class=\"dataframe\">\n",
       "  <thead>\n",
       "    <tr style=\"text-align: right;\">\n",
       "      <th></th>\n",
       "      <th>ip</th>\n",
       "      <th>request_method</th>\n",
       "      <th>status</th>\n",
       "      <th>size</th>\n",
       "      <th>destination</th>\n",
       "      <th>request_agent</th>\n",
       "    </tr>\n",
       "    <tr>\n",
       "      <th>timestamp</th>\n",
       "      <th></th>\n",
       "      <th></th>\n",
       "      <th></th>\n",
       "      <th></th>\n",
       "      <th></th>\n",
       "      <th></th>\n",
       "    </tr>\n",
       "  </thead>\n",
       "  <tbody>\n",
       "    <tr>\n",
       "      <th>2019-04-16 19:34:42</th>\n",
       "      <td>97.105.19.58</td>\n",
       "      <td>\"GET /api/v1/sales?page=81 HTTP/1.1\"</td>\n",
       "      <td>200</td>\n",
       "      <td>512495</td>\n",
       "      <td>NaN</td>\n",
       "      <td>\"python-requests/2.21.0\"</td>\n",
       "    </tr>\n",
       "  </tbody>\n",
       "</table>\n",
       "</div>"
      ],
      "text/plain": [
       "                               ip                        request_method  \\\n",
       "timestamp                                                                 \n",
       "2019-04-16 19:34:42  97.105.19.58  \"GET /api/v1/sales?page=81 HTTP/1.1\"   \n",
       "\n",
       "                     status    size destination             request_agent  \n",
       "timestamp                                                                  \n",
       "2019-04-16 19:34:42     200  512495         NaN  \"python-requests/2.21.0\"  "
      ]
     },
     "execution_count": 9,
     "metadata": {},
     "output_type": "execute_result"
    }
   ],
   "source": [
    "df.head(1)"
   ]
  },
  {
   "cell_type": "markdown",
   "metadata": {},
   "source": [
    "-----\n",
    "\n",
    "<h3>Cleanup Text</h3>\n",
    "\n",
    "----"
   ]
  },
  {
   "cell_type": "code",
   "execution_count": 10,
   "metadata": {},
   "outputs": [
    {
     "data": {
      "text/html": [
       "<div>\n",
       "<style scoped>\n",
       "    .dataframe tbody tr th:only-of-type {\n",
       "        vertical-align: middle;\n",
       "    }\n",
       "\n",
       "    .dataframe tbody tr th {\n",
       "        vertical-align: top;\n",
       "    }\n",
       "\n",
       "    .dataframe thead th {\n",
       "        text-align: right;\n",
       "    }\n",
       "</style>\n",
       "<table border=\"1\" class=\"dataframe\">\n",
       "  <thead>\n",
       "    <tr style=\"text-align: right;\">\n",
       "      <th></th>\n",
       "      <th>ip</th>\n",
       "      <th>request_method</th>\n",
       "      <th>status</th>\n",
       "      <th>size</th>\n",
       "      <th>destination</th>\n",
       "      <th>request_agent</th>\n",
       "    </tr>\n",
       "    <tr>\n",
       "      <th>timestamp</th>\n",
       "      <th></th>\n",
       "      <th></th>\n",
       "      <th></th>\n",
       "      <th></th>\n",
       "      <th></th>\n",
       "      <th></th>\n",
       "    </tr>\n",
       "  </thead>\n",
       "  <tbody>\n",
       "    <tr>\n",
       "      <th>2019-04-16 19:34:42</th>\n",
       "      <td>97.105.19.58</td>\n",
       "      <td>GET /api/v1/sales</td>\n",
       "      <td>200</td>\n",
       "      <td>512495</td>\n",
       "      <td>NaN</td>\n",
       "      <td>python-requests/2.21.0</td>\n",
       "    </tr>\n",
       "    <tr>\n",
       "      <th>2019-04-16 19:34:42</th>\n",
       "      <td>97.105.19.58</td>\n",
       "      <td>GET /api/v1/items</td>\n",
       "      <td>200</td>\n",
       "      <td>3561</td>\n",
       "      <td>NaN</td>\n",
       "      <td>python-requests/2.21.0</td>\n",
       "    </tr>\n",
       "  </tbody>\n",
       "</table>\n",
       "</div>"
      ],
      "text/plain": [
       "                               ip     request_method  status    size  \\\n",
       "timestamp                                                              \n",
       "2019-04-16 19:34:42  97.105.19.58  GET /api/v1/sales     200  512495   \n",
       "2019-04-16 19:34:42  97.105.19.58  GET /api/v1/items     200    3561   \n",
       "\n",
       "                    destination           request_agent  \n",
       "timestamp                                                \n",
       "2019-04-16 19:34:42         NaN  python-requests/2.21.0  \n",
       "2019-04-16 19:34:42         NaN  python-requests/2.21.0  "
      ]
     },
     "execution_count": 10,
     "metadata": {},
     "output_type": "execute_result"
    }
   ],
   "source": [
    "# clean up strings in columns with extra quotes\n",
    "for col in ['request_method', 'request_agent', 'destination']:\n",
    "    df[col] = df[col].str.replace('\"', '')\n",
    "\n",
    "# simplify and clean up request method by removing page data\n",
    "df['request_method'] = df.request_method.str.replace(r'\\?page=[0-9]+', '', regex=True)\n",
    "\n",
    "# simplify and clean up request method by removing page data\n",
    "df['request_method'] = df.request_method.str.replace(r' HTTP/1.1', '', regex=True)\n",
    "\n",
    "# simplify and clean up request method by removing page data\n",
    "df['request_method'] = df.request_method.str.replace(r'HTTP/1.1', '', regex=True)\n",
    "\n",
    "df.head(2)"
   ]
  },
  {
   "cell_type": "code",
   "execution_count": 11,
   "metadata": {},
   "outputs": [],
   "source": [
    "#### Add Variable - Converting bytes to mb:\n",
    "\n",
    "df['size_mb'] = [n/1024/1024 for n in df['size']]"
   ]
  },
  {
   "cell_type": "code",
   "execution_count": 12,
   "metadata": {},
   "outputs": [
    {
     "data": {
      "text/html": [
       "<div>\n",
       "<style scoped>\n",
       "    .dataframe tbody tr th:only-of-type {\n",
       "        vertical-align: middle;\n",
       "    }\n",
       "\n",
       "    .dataframe tbody tr th {\n",
       "        vertical-align: top;\n",
       "    }\n",
       "\n",
       "    .dataframe thead th {\n",
       "        text-align: right;\n",
       "    }\n",
       "</style>\n",
       "<table border=\"1\" class=\"dataframe\">\n",
       "  <thead>\n",
       "    <tr style=\"text-align: right;\">\n",
       "      <th></th>\n",
       "      <th>status</th>\n",
       "      <th>size</th>\n",
       "      <th>size_mb</th>\n",
       "    </tr>\n",
       "  </thead>\n",
       "  <tbody>\n",
       "    <tr>\n",
       "      <th>count</th>\n",
       "      <td>13978.000000</td>\n",
       "      <td>1.397800e+04</td>\n",
       "      <td>13978.000000</td>\n",
       "    </tr>\n",
       "    <tr>\n",
       "      <th>mean</th>\n",
       "      <td>200.356703</td>\n",
       "      <td>4.500019e+05</td>\n",
       "      <td>0.429155</td>\n",
       "    </tr>\n",
       "    <tr>\n",
       "      <th>std</th>\n",
       "      <td>10.182001</td>\n",
       "      <td>1.614915e+05</td>\n",
       "      <td>0.154010</td>\n",
       "    </tr>\n",
       "    <tr>\n",
       "      <th>min</th>\n",
       "      <td>200.000000</td>\n",
       "      <td>0.000000e+00</td>\n",
       "      <td>0.000000</td>\n",
       "    </tr>\n",
       "    <tr>\n",
       "      <th>25%</th>\n",
       "      <td>200.000000</td>\n",
       "      <td>5.006370e+05</td>\n",
       "      <td>0.477445</td>\n",
       "    </tr>\n",
       "    <tr>\n",
       "      <th>50%</th>\n",
       "      <td>200.000000</td>\n",
       "      <td>5.101380e+05</td>\n",
       "      <td>0.486506</td>\n",
       "    </tr>\n",
       "    <tr>\n",
       "      <th>75%</th>\n",
       "      <td>200.000000</td>\n",
       "      <td>5.112910e+05</td>\n",
       "      <td>0.487605</td>\n",
       "    </tr>\n",
       "    <tr>\n",
       "      <th>max</th>\n",
       "      <td>499.000000</td>\n",
       "      <td>2.056327e+06</td>\n",
       "      <td>1.961066</td>\n",
       "    </tr>\n",
       "  </tbody>\n",
       "</table>\n",
       "</div>"
      ],
      "text/plain": [
       "             status          size       size_mb\n",
       "count  13978.000000  1.397800e+04  13978.000000\n",
       "mean     200.356703  4.500019e+05      0.429155\n",
       "std       10.182001  1.614915e+05      0.154010\n",
       "min      200.000000  0.000000e+00      0.000000\n",
       "25%      200.000000  5.006370e+05      0.477445\n",
       "50%      200.000000  5.101380e+05      0.486506\n",
       "75%      200.000000  5.112910e+05      0.487605\n",
       "max      499.000000  2.056327e+06      1.961066"
      ]
     },
     "execution_count": 12,
     "metadata": {},
     "output_type": "execute_result"
    }
   ],
   "source": [
    "df.describe()\n"
   ]
  },
  {
   "cell_type": "code",
   "execution_count": 13,
   "metadata": {},
   "outputs": [
    {
     "data": {
      "text/plain": [
       "GET /api/v1/sales                      12403\n",
       "GET /api/v1/items                       1065\n",
       "GET /api/v1/stores                       229\n",
       "GET /                                    107\n",
       "GET /documentation                       100\n",
       "GET /favicon.ico                          26\n",
       "GET /api/v1//api/v1/items                 11\n",
       "GET /api/v1/items/api/v1/items             7\n",
       "GET /api/v1/sales/                         6\n",
       "GET /api/v1/items/next_page                5\n",
       "GET /api/v1/                               4\n",
       "GET /api/v1/itemsitems                     3\n",
       "GET /api/v1/store                          3\n",
       "GET /api/v1items                           2\n",
       "GET /api/v1/items&page=0                   1\n",
       "GET /api/v1/I_DIDNT_DO_IT!!!!              1\n",
       "GET /api/v1/helloclass!                    1\n",
       "GET /api/v1//api/v1/items/next_page        1\n",
       "GET /api/v1/items/                         1\n",
       "GET /api/v1                                1\n",
       "GET /api/V1/HiZach!                        1\n",
       "Name: request_method, dtype: int64"
      ]
     },
     "execution_count": 13,
     "metadata": {},
     "output_type": "execute_result"
    }
   ],
   "source": [
    "df.request_method.value_counts()"
   ]
  },
  {
   "cell_type": "code",
   "execution_count": null,
   "metadata": {},
   "outputs": [],
   "source": []
  },
  {
   "cell_type": "markdown",
   "metadata": {},
   "source": [
    "## Detecting Anomalies in Discrete Variables\n",
    "\n",
    "### Finding anomalies in already existing data:\n",
    "\n",
    "We can easily see some anomalies around IP addresses."
   ]
  },
  {
   "cell_type": "code",
   "execution_count": 14,
   "metadata": {},
   "outputs": [],
   "source": [
    "# get the counts of ips in the dataset\n",
    "rm_df = df.request_method.value_counts(dropna=False).reset_index().\\\n",
    "                rename(columns={'index': 'request_method', 'request_method': 'request_method_count'})"
   ]
  },
  {
   "cell_type": "code",
   "execution_count": 15,
   "metadata": {},
   "outputs": [
    {
     "data": {
      "text/html": [
       "<div>\n",
       "<style scoped>\n",
       "    .dataframe tbody tr th:only-of-type {\n",
       "        vertical-align: middle;\n",
       "    }\n",
       "\n",
       "    .dataframe tbody tr th {\n",
       "        vertical-align: top;\n",
       "    }\n",
       "\n",
       "    .dataframe thead th {\n",
       "        text-align: right;\n",
       "    }\n",
       "</style>\n",
       "<table border=\"1\" class=\"dataframe\">\n",
       "  <thead>\n",
       "    <tr style=\"text-align: right;\">\n",
       "      <th></th>\n",
       "      <th>request_method</th>\n",
       "      <th>request_method_count</th>\n",
       "    </tr>\n",
       "  </thead>\n",
       "  <tbody>\n",
       "    <tr>\n",
       "      <th>0</th>\n",
       "      <td>GET /api/v1/sales</td>\n",
       "      <td>12403</td>\n",
       "    </tr>\n",
       "    <tr>\n",
       "      <th>1</th>\n",
       "      <td>GET /api/v1/items</td>\n",
       "      <td>1065</td>\n",
       "    </tr>\n",
       "    <tr>\n",
       "      <th>2</th>\n",
       "      <td>GET /api/v1/stores</td>\n",
       "      <td>229</td>\n",
       "    </tr>\n",
       "    <tr>\n",
       "      <th>3</th>\n",
       "      <td>GET /</td>\n",
       "      <td>107</td>\n",
       "    </tr>\n",
       "    <tr>\n",
       "      <th>4</th>\n",
       "      <td>GET /documentation</td>\n",
       "      <td>100</td>\n",
       "    </tr>\n",
       "  </tbody>\n",
       "</table>\n",
       "</div>"
      ],
      "text/plain": [
       "       request_method  request_method_count\n",
       "0   GET /api/v1/sales                 12403\n",
       "1   GET /api/v1/items                  1065\n",
       "2  GET /api/v1/stores                   229\n",
       "3               GET /                   107\n",
       "4  GET /documentation                   100"
      ]
     },
     "execution_count": 15,
     "metadata": {},
     "output_type": "execute_result"
    }
   ],
   "source": [
    "rm_df.head()"
   ]
  },
  {
   "cell_type": "code",
   "execution_count": null,
   "metadata": {},
   "outputs": [],
   "source": []
  },
  {
   "cell_type": "code",
   "execution_count": 16,
   "metadata": {},
   "outputs": [],
   "source": [
    "# get the probability of that ip in the dataset\n",
    "rm_df2 = (df.request_method.value_counts(dropna=False)/df.request_method.count()).reset_index().\\\n",
    "                rename(columns={'index': 'request_method', 'request_method': 'request_method_proba'})\n"
   ]
  },
  {
   "cell_type": "code",
   "execution_count": 17,
   "metadata": {},
   "outputs": [
    {
     "data": {
      "text/html": [
       "<div>\n",
       "<style scoped>\n",
       "    .dataframe tbody tr th:only-of-type {\n",
       "        vertical-align: middle;\n",
       "    }\n",
       "\n",
       "    .dataframe tbody tr th {\n",
       "        vertical-align: top;\n",
       "    }\n",
       "\n",
       "    .dataframe thead th {\n",
       "        text-align: right;\n",
       "    }\n",
       "</style>\n",
       "<table border=\"1\" class=\"dataframe\">\n",
       "  <thead>\n",
       "    <tr style=\"text-align: right;\">\n",
       "      <th></th>\n",
       "      <th>request_method</th>\n",
       "      <th>request_method_proba</th>\n",
       "    </tr>\n",
       "  </thead>\n",
       "  <tbody>\n",
       "    <tr>\n",
       "      <th>0</th>\n",
       "      <td>GET /api/v1/sales</td>\n",
       "      <td>0.887323</td>\n",
       "    </tr>\n",
       "    <tr>\n",
       "      <th>1</th>\n",
       "      <td>GET /api/v1/items</td>\n",
       "      <td>0.076191</td>\n",
       "    </tr>\n",
       "    <tr>\n",
       "      <th>2</th>\n",
       "      <td>GET /api/v1/stores</td>\n",
       "      <td>0.016383</td>\n",
       "    </tr>\n",
       "    <tr>\n",
       "      <th>3</th>\n",
       "      <td>GET /</td>\n",
       "      <td>0.007655</td>\n",
       "    </tr>\n",
       "    <tr>\n",
       "      <th>4</th>\n",
       "      <td>GET /documentation</td>\n",
       "      <td>0.007154</td>\n",
       "    </tr>\n",
       "  </tbody>\n",
       "</table>\n",
       "</div>"
      ],
      "text/plain": [
       "       request_method  request_method_proba\n",
       "0   GET /api/v1/sales              0.887323\n",
       "1   GET /api/v1/items              0.076191\n",
       "2  GET /api/v1/stores              0.016383\n",
       "3               GET /              0.007655\n",
       "4  GET /documentation              0.007154"
      ]
     },
     "execution_count": 17,
     "metadata": {},
     "output_type": "execute_result"
    }
   ],
   "source": [
    "rm_df2.head()"
   ]
  },
  {
   "cell_type": "code",
   "execution_count": 18,
   "metadata": {},
   "outputs": [],
   "source": [
    "# merge/join these together\n",
    "rm_df = rm_df.merge(rm_df2)"
   ]
  },
  {
   "cell_type": "code",
   "execution_count": 19,
   "metadata": {},
   "outputs": [
    {
     "data": {
      "text/html": [
       "<div>\n",
       "<style scoped>\n",
       "    .dataframe tbody tr th:only-of-type {\n",
       "        vertical-align: middle;\n",
       "    }\n",
       "\n",
       "    .dataframe tbody tr th {\n",
       "        vertical-align: top;\n",
       "    }\n",
       "\n",
       "    .dataframe thead th {\n",
       "        text-align: right;\n",
       "    }\n",
       "</style>\n",
       "<table border=\"1\" class=\"dataframe\">\n",
       "  <thead>\n",
       "    <tr style=\"text-align: right;\">\n",
       "      <th></th>\n",
       "      <th>request_method</th>\n",
       "      <th>request_method_count</th>\n",
       "      <th>request_method_proba</th>\n",
       "    </tr>\n",
       "  </thead>\n",
       "  <tbody>\n",
       "    <tr>\n",
       "      <th>0</th>\n",
       "      <td>GET /api/v1/sales</td>\n",
       "      <td>12403</td>\n",
       "      <td>0.887323</td>\n",
       "    </tr>\n",
       "    <tr>\n",
       "      <th>1</th>\n",
       "      <td>GET /api/v1/items</td>\n",
       "      <td>1065</td>\n",
       "      <td>0.076191</td>\n",
       "    </tr>\n",
       "    <tr>\n",
       "      <th>2</th>\n",
       "      <td>GET /api/v1/stores</td>\n",
       "      <td>229</td>\n",
       "      <td>0.016383</td>\n",
       "    </tr>\n",
       "    <tr>\n",
       "      <th>3</th>\n",
       "      <td>GET /</td>\n",
       "      <td>107</td>\n",
       "      <td>0.007655</td>\n",
       "    </tr>\n",
       "    <tr>\n",
       "      <th>4</th>\n",
       "      <td>GET /documentation</td>\n",
       "      <td>100</td>\n",
       "      <td>0.007154</td>\n",
       "    </tr>\n",
       "  </tbody>\n",
       "</table>\n",
       "</div>"
      ],
      "text/plain": [
       "       request_method  request_method_count  request_method_proba\n",
       "0   GET /api/v1/sales                 12403              0.887323\n",
       "1   GET /api/v1/items                  1065              0.076191\n",
       "2  GET /api/v1/stores                   229              0.016383\n",
       "3               GET /                   107              0.007655\n",
       "4  GET /documentation                   100              0.007154"
      ]
     },
     "execution_count": 19,
     "metadata": {},
     "output_type": "execute_result"
    }
   ],
   "source": [
    "rm_df.head()"
   ]
  },
  {
   "cell_type": "code",
   "execution_count": 20,
   "metadata": {},
   "outputs": [
    {
     "data": {
      "text/plain": [
       "(21, 3)"
      ]
     },
     "execution_count": 20,
     "metadata": {},
     "output_type": "execute_result"
    }
   ],
   "source": [
    "rm_df.shape"
   ]
  },
  {
   "cell_type": "code",
   "execution_count": 21,
   "metadata": {},
   "outputs": [
    {
     "data": {
      "text/html": [
       "<div>\n",
       "<style scoped>\n",
       "    .dataframe tbody tr th:only-of-type {\n",
       "        vertical-align: middle;\n",
       "    }\n",
       "\n",
       "    .dataframe tbody tr th {\n",
       "        vertical-align: top;\n",
       "    }\n",
       "\n",
       "    .dataframe thead th {\n",
       "        text-align: right;\n",
       "    }\n",
       "</style>\n",
       "<table border=\"1\" class=\"dataframe\">\n",
       "  <thead>\n",
       "    <tr style=\"text-align: right;\">\n",
       "      <th></th>\n",
       "      <th>request_method</th>\n",
       "      <th>request_method_count</th>\n",
       "      <th>request_method_proba</th>\n",
       "    </tr>\n",
       "  </thead>\n",
       "  <tbody>\n",
       "    <tr>\n",
       "      <th>3</th>\n",
       "      <td>GET /</td>\n",
       "      <td>107</td>\n",
       "      <td>0.007655</td>\n",
       "    </tr>\n",
       "    <tr>\n",
       "      <th>4</th>\n",
       "      <td>GET /documentation</td>\n",
       "      <td>100</td>\n",
       "      <td>0.007154</td>\n",
       "    </tr>\n",
       "    <tr>\n",
       "      <th>5</th>\n",
       "      <td>GET /favicon.ico</td>\n",
       "      <td>26</td>\n",
       "      <td>0.001860</td>\n",
       "    </tr>\n",
       "    <tr>\n",
       "      <th>6</th>\n",
       "      <td>GET /api/v1//api/v1/items</td>\n",
       "      <td>11</td>\n",
       "      <td>0.000787</td>\n",
       "    </tr>\n",
       "    <tr>\n",
       "      <th>7</th>\n",
       "      <td>GET /api/v1/items/api/v1/items</td>\n",
       "      <td>7</td>\n",
       "      <td>0.000501</td>\n",
       "    </tr>\n",
       "    <tr>\n",
       "      <th>8</th>\n",
       "      <td>GET /api/v1/sales/</td>\n",
       "      <td>6</td>\n",
       "      <td>0.000429</td>\n",
       "    </tr>\n",
       "    <tr>\n",
       "      <th>9</th>\n",
       "      <td>GET /api/v1/items/next_page</td>\n",
       "      <td>5</td>\n",
       "      <td>0.000358</td>\n",
       "    </tr>\n",
       "    <tr>\n",
       "      <th>10</th>\n",
       "      <td>GET /api/v1/</td>\n",
       "      <td>4</td>\n",
       "      <td>0.000286</td>\n",
       "    </tr>\n",
       "    <tr>\n",
       "      <th>11</th>\n",
       "      <td>GET /api/v1/itemsitems</td>\n",
       "      <td>3</td>\n",
       "      <td>0.000215</td>\n",
       "    </tr>\n",
       "    <tr>\n",
       "      <th>12</th>\n",
       "      <td>GET /api/v1/store</td>\n",
       "      <td>3</td>\n",
       "      <td>0.000215</td>\n",
       "    </tr>\n",
       "    <tr>\n",
       "      <th>13</th>\n",
       "      <td>GET /api/v1items</td>\n",
       "      <td>2</td>\n",
       "      <td>0.000143</td>\n",
       "    </tr>\n",
       "    <tr>\n",
       "      <th>14</th>\n",
       "      <td>GET /api/v1/items&amp;page=0</td>\n",
       "      <td>1</td>\n",
       "      <td>0.000072</td>\n",
       "    </tr>\n",
       "    <tr>\n",
       "      <th>15</th>\n",
       "      <td>GET /api/v1/I_DIDNT_DO_IT!!!!</td>\n",
       "      <td>1</td>\n",
       "      <td>0.000072</td>\n",
       "    </tr>\n",
       "    <tr>\n",
       "      <th>16</th>\n",
       "      <td>GET /api/v1/helloclass!</td>\n",
       "      <td>1</td>\n",
       "      <td>0.000072</td>\n",
       "    </tr>\n",
       "    <tr>\n",
       "      <th>17</th>\n",
       "      <td>GET /api/v1//api/v1/items/next_page</td>\n",
       "      <td>1</td>\n",
       "      <td>0.000072</td>\n",
       "    </tr>\n",
       "    <tr>\n",
       "      <th>18</th>\n",
       "      <td>GET /api/v1/items/</td>\n",
       "      <td>1</td>\n",
       "      <td>0.000072</td>\n",
       "    </tr>\n",
       "    <tr>\n",
       "      <th>19</th>\n",
       "      <td>GET /api/v1</td>\n",
       "      <td>1</td>\n",
       "      <td>0.000072</td>\n",
       "    </tr>\n",
       "    <tr>\n",
       "      <th>20</th>\n",
       "      <td>GET /api/V1/HiZach!</td>\n",
       "      <td>1</td>\n",
       "      <td>0.000072</td>\n",
       "    </tr>\n",
       "  </tbody>\n",
       "</table>\n",
       "</div>"
      ],
      "text/plain": [
       "                         request_method  request_method_count  \\\n",
       "3                                 GET /                   107   \n",
       "4                    GET /documentation                   100   \n",
       "5                      GET /favicon.ico                    26   \n",
       "6             GET /api/v1//api/v1/items                    11   \n",
       "7        GET /api/v1/items/api/v1/items                     7   \n",
       "8                    GET /api/v1/sales/                     6   \n",
       "9           GET /api/v1/items/next_page                     5   \n",
       "10                         GET /api/v1/                     4   \n",
       "11               GET /api/v1/itemsitems                     3   \n",
       "12                    GET /api/v1/store                     3   \n",
       "13                     GET /api/v1items                     2   \n",
       "14             GET /api/v1/items&page=0                     1   \n",
       "15        GET /api/v1/I_DIDNT_DO_IT!!!!                     1   \n",
       "16              GET /api/v1/helloclass!                     1   \n",
       "17  GET /api/v1//api/v1/items/next_page                     1   \n",
       "18                   GET /api/v1/items/                     1   \n",
       "19                          GET /api/v1                     1   \n",
       "20                  GET /api/V1/HiZach!                     1   \n",
       "\n",
       "    request_method_proba  \n",
       "3               0.007655  \n",
       "4               0.007154  \n",
       "5               0.001860  \n",
       "6               0.000787  \n",
       "7               0.000501  \n",
       "8               0.000429  \n",
       "9               0.000358  \n",
       "10              0.000286  \n",
       "11              0.000215  \n",
       "12              0.000215  \n",
       "13              0.000143  \n",
       "14              0.000072  \n",
       "15              0.000072  \n",
       "16              0.000072  \n",
       "17              0.000072  \n",
       "18              0.000072  \n",
       "19              0.000072  \n",
       "20              0.000072  "
      ]
     },
     "execution_count": 21,
     "metadata": {},
     "output_type": "execute_result"
    }
   ],
   "source": [
    "# alter the ip df to only see those where rate < 1% \n",
    "rm_df[rm_df.request_method_proba < 0.01]"
   ]
  },
  {
   "cell_type": "code",
   "execution_count": 22,
   "metadata": {},
   "outputs": [
    {
     "name": "stdout",
     "output_type": "stream",
     "text": [
      "21\n",
      "                         request_method  request_method_count  \\\n",
      "11               GET /api/v1/itemsitems                     3   \n",
      "12                    GET /api/v1/store                     3   \n",
      "13                     GET /api/v1items                     2   \n",
      "14             GET /api/v1/items&page=0                     1   \n",
      "15        GET /api/v1/I_DIDNT_DO_IT!!!!                     1   \n",
      "16              GET /api/v1/helloclass!                     1   \n",
      "17  GET /api/v1//api/v1/items/next_page                     1   \n",
      "18                   GET /api/v1/items/                     1   \n",
      "19                          GET /api/v1                     1   \n",
      "20                  GET /api/V1/HiZach!                     1   \n",
      "\n",
      "    request_method_proba  \n",
      "11              0.000215  \n",
      "12              0.000215  \n",
      "13              0.000143  \n",
      "14              0.000072  \n",
      "15              0.000072  \n",
      "16              0.000072  \n",
      "17              0.000072  \n",
      "18              0.000072  \n",
      "19              0.000072  \n",
      "20              0.000072  \n"
     ]
    },
    {
     "data": {
      "image/png": "[encoded data removed]",
      "text/plain": [
       "<Figure size 864x288 with 1 Axes>"
      ]
     },
     "metadata": {
      "needs_background": "light"
     },
     "output_type": "display_data"
    }
   ],
   "source": [
    "print(len(rm_df))\n",
    "\n",
    "print(rm_df.tail(10))\n",
    "\n",
    "plt.figure(figsize=(12, 4))\n",
    "splot = sns.barplot(data=rm_df, x = 'request_method', y = 'request_method_count', ci = None)\n",
    "for p in splot.patches:\n",
    "    splot.annotate(format(p.get_height(), '.0f'), \n",
    "                   (p.get_x() + p.get_width() / 2., p.get_height()), \n",
    "                   ha = 'center', va = 'center', xytext = (0, 10), \n",
    "                   textcoords = 'offset points'\n",
    "                   )\n",
    "plt.xticks(rotation='vertical')\n",
    "plt.show()"
   ]
  },
  {
   "cell_type": "markdown",
   "metadata": {},
   "source": [
    "### Detecting anomalies by establishing a baseline and evaluate as new data arrives.\n",
    "#### Establish Baseline:"
   ]
  },
  {
   "cell_type": "code",
   "execution_count": 23,
   "metadata": {},
   "outputs": [
    {
     "data": {
      "text/plain": [
       "(13978, 7)"
      ]
     },
     "execution_count": 23,
     "metadata": {},
     "output_type": "execute_result"
    }
   ],
   "source": [
    "df.shape"
   ]
  },
  {
   "cell_type": "code",
   "execution_count": 24,
   "metadata": {},
   "outputs": [],
   "source": [
    "# create a training set\n",
    "train = df.loc['2019-04-16 19:34:42':'2019-04-17 12:55:14']"
   ]
  },
  {
   "cell_type": "code",
   "execution_count": 25,
   "metadata": {},
   "outputs": [
    {
     "data": {
      "text/plain": [
       "(13974, 7)"
      ]
     },
     "execution_count": 25,
     "metadata": {},
     "output_type": "execute_result"
    }
   ],
   "source": [
    "train.shape"
   ]
  },
  {
   "cell_type": "code",
   "execution_count": 26,
   "metadata": {},
   "outputs": [
    {
     "data": {
      "text/plain": [
       "0.9997138360280441"
      ]
     },
     "execution_count": 26,
     "metadata": {},
     "output_type": "execute_result"
    }
   ],
   "source": [
    "train.size /df.size"
   ]
  },
  {
   "cell_type": "code",
   "execution_count": 27,
   "metadata": {},
   "outputs": [],
   "source": [
    "train = train[['ip','request_method','status','size','destination','request_agent','size_mb']]"
   ]
  },
  {
   "cell_type": "code",
   "execution_count": 28,
   "metadata": {},
   "outputs": [
    {
     "data": {
      "text/html": [
       "<div>\n",
       "<style scoped>\n",
       "    .dataframe tbody tr th:only-of-type {\n",
       "        vertical-align: middle;\n",
       "    }\n",
       "\n",
       "    .dataframe tbody tr th {\n",
       "        vertical-align: top;\n",
       "    }\n",
       "\n",
       "    .dataframe thead th {\n",
       "        text-align: right;\n",
       "    }\n",
       "</style>\n",
       "<table border=\"1\" class=\"dataframe\">\n",
       "  <thead>\n",
       "    <tr style=\"text-align: right;\">\n",
       "      <th></th>\n",
       "      <th>ip</th>\n",
       "      <th>request_method</th>\n",
       "      <th>status</th>\n",
       "      <th>size</th>\n",
       "      <th>destination</th>\n",
       "      <th>request_agent</th>\n",
       "      <th>size_mb</th>\n",
       "    </tr>\n",
       "    <tr>\n",
       "      <th>timestamp</th>\n",
       "      <th></th>\n",
       "      <th></th>\n",
       "      <th></th>\n",
       "      <th></th>\n",
       "      <th></th>\n",
       "      <th></th>\n",
       "      <th></th>\n",
       "    </tr>\n",
       "  </thead>\n",
       "  <tbody>\n",
       "    <tr>\n",
       "      <th>2019-04-16 19:34:42</th>\n",
       "      <td>97.105.19.58</td>\n",
       "      <td>GET /api/v1/sales</td>\n",
       "      <td>200</td>\n",
       "      <td>512495</td>\n",
       "      <td>NaN</td>\n",
       "      <td>python-requests/2.21.0</td>\n",
       "      <td>0.488753</td>\n",
       "    </tr>\n",
       "    <tr>\n",
       "      <th>2019-04-16 19:34:42</th>\n",
       "      <td>97.105.19.58</td>\n",
       "      <td>GET /api/v1/items</td>\n",
       "      <td>200</td>\n",
       "      <td>3561</td>\n",
       "      <td>NaN</td>\n",
       "      <td>python-requests/2.21.0</td>\n",
       "      <td>0.003396</td>\n",
       "    </tr>\n",
       "    <tr>\n",
       "      <th>2019-04-16 19:34:44</th>\n",
       "      <td>97.105.19.58</td>\n",
       "      <td>GET /api/v1/sales</td>\n",
       "      <td>200</td>\n",
       "      <td>510103</td>\n",
       "      <td>NaN</td>\n",
       "      <td>python-requests/2.21.0</td>\n",
       "      <td>0.486472</td>\n",
       "    </tr>\n",
       "    <tr>\n",
       "      <th>2019-04-16 19:34:46</th>\n",
       "      <td>97.105.19.58</td>\n",
       "      <td>GET /api/v1/sales</td>\n",
       "      <td>200</td>\n",
       "      <td>510003</td>\n",
       "      <td>NaN</td>\n",
       "      <td>python-requests/2.21.0</td>\n",
       "      <td>0.486377</td>\n",
       "    </tr>\n",
       "    <tr>\n",
       "      <th>2019-04-16 19:34:48</th>\n",
       "      <td>97.105.19.58</td>\n",
       "      <td>GET /api/v1/sales</td>\n",
       "      <td>200</td>\n",
       "      <td>511963</td>\n",
       "      <td>NaN</td>\n",
       "      <td>python-requests/2.21.0</td>\n",
       "      <td>0.488246</td>\n",
       "    </tr>\n",
       "  </tbody>\n",
       "</table>\n",
       "</div>"
      ],
      "text/plain": [
       "                               ip     request_method  status    size  \\\n",
       "timestamp                                                              \n",
       "2019-04-16 19:34:42  97.105.19.58  GET /api/v1/sales     200  512495   \n",
       "2019-04-16 19:34:42  97.105.19.58  GET /api/v1/items     200    3561   \n",
       "2019-04-16 19:34:44  97.105.19.58  GET /api/v1/sales     200  510103   \n",
       "2019-04-16 19:34:46  97.105.19.58  GET /api/v1/sales     200  510003   \n",
       "2019-04-16 19:34:48  97.105.19.58  GET /api/v1/sales     200  511963   \n",
       "\n",
       "                    destination           request_agent   size_mb  \n",
       "timestamp                                                          \n",
       "2019-04-16 19:34:42         NaN  python-requests/2.21.0  0.488753  \n",
       "2019-04-16 19:34:42         NaN  python-requests/2.21.0  0.003396  \n",
       "2019-04-16 19:34:44         NaN  python-requests/2.21.0  0.486472  \n",
       "2019-04-16 19:34:46         NaN  python-requests/2.21.0  0.486377  \n",
       "2019-04-16 19:34:48         NaN  python-requests/2.21.0  0.488246  "
      ]
     },
     "execution_count": 28,
     "metadata": {},
     "output_type": "execute_result"
    }
   ],
   "source": [
    "train.head()"
   ]
  },
  {
   "cell_type": "markdown",
   "metadata": {},
   "source": [
    "#### Compute probabilities based on train sample:"
   ]
  },
  {
   "cell_type": "code",
   "execution_count": 29,
   "metadata": {},
   "outputs": [],
   "source": [
    "df = df.reset_index().merge(rm_df, on=['request_method'], how='left').fillna(value=0).set_index('timestamp')"
   ]
  },
  {
   "cell_type": "code",
   "execution_count": 30,
   "metadata": {},
   "outputs": [
    {
     "data": {
      "text/html": [
       "<div>\n",
       "<style scoped>\n",
       "    .dataframe tbody tr th:only-of-type {\n",
       "        vertical-align: middle;\n",
       "    }\n",
       "\n",
       "    .dataframe tbody tr th {\n",
       "        vertical-align: top;\n",
       "    }\n",
       "\n",
       "    .dataframe thead th {\n",
       "        text-align: right;\n",
       "    }\n",
       "</style>\n",
       "<table border=\"1\" class=\"dataframe\">\n",
       "  <thead>\n",
       "    <tr style=\"text-align: right;\">\n",
       "      <th></th>\n",
       "      <th>ip</th>\n",
       "      <th>request_method</th>\n",
       "      <th>status</th>\n",
       "      <th>size</th>\n",
       "      <th>destination</th>\n",
       "      <th>request_agent</th>\n",
       "      <th>size_mb</th>\n",
       "      <th>request_method_count</th>\n",
       "      <th>request_method_proba</th>\n",
       "    </tr>\n",
       "    <tr>\n",
       "      <th>timestamp</th>\n",
       "      <th></th>\n",
       "      <th></th>\n",
       "      <th></th>\n",
       "      <th></th>\n",
       "      <th></th>\n",
       "      <th></th>\n",
       "      <th></th>\n",
       "      <th></th>\n",
       "      <th></th>\n",
       "    </tr>\n",
       "  </thead>\n",
       "  <tbody>\n",
       "    <tr>\n",
       "      <th>2019-04-16 19:34:42</th>\n",
       "      <td>97.105.19.58</td>\n",
       "      <td>GET /api/v1/sales</td>\n",
       "      <td>200</td>\n",
       "      <td>512495</td>\n",
       "      <td>0</td>\n",
       "      <td>python-requests/2.21.0</td>\n",
       "      <td>0.488753</td>\n",
       "      <td>12403</td>\n",
       "      <td>0.887323</td>\n",
       "    </tr>\n",
       "    <tr>\n",
       "      <th>2019-04-16 19:34:42</th>\n",
       "      <td>97.105.19.58</td>\n",
       "      <td>GET /api/v1/items</td>\n",
       "      <td>200</td>\n",
       "      <td>3561</td>\n",
       "      <td>0</td>\n",
       "      <td>python-requests/2.21.0</td>\n",
       "      <td>0.003396</td>\n",
       "      <td>1065</td>\n",
       "      <td>0.076191</td>\n",
       "    </tr>\n",
       "    <tr>\n",
       "      <th>2019-04-16 19:34:44</th>\n",
       "      <td>97.105.19.58</td>\n",
       "      <td>GET /api/v1/sales</td>\n",
       "      <td>200</td>\n",
       "      <td>510103</td>\n",
       "      <td>0</td>\n",
       "      <td>python-requests/2.21.0</td>\n",
       "      <td>0.486472</td>\n",
       "      <td>12403</td>\n",
       "      <td>0.887323</td>\n",
       "    </tr>\n",
       "    <tr>\n",
       "      <th>2019-04-16 19:34:46</th>\n",
       "      <td>97.105.19.58</td>\n",
       "      <td>GET /api/v1/sales</td>\n",
       "      <td>200</td>\n",
       "      <td>510003</td>\n",
       "      <td>0</td>\n",
       "      <td>python-requests/2.21.0</td>\n",
       "      <td>0.486377</td>\n",
       "      <td>12403</td>\n",
       "      <td>0.887323</td>\n",
       "    </tr>\n",
       "    <tr>\n",
       "      <th>2019-04-16 19:34:48</th>\n",
       "      <td>97.105.19.58</td>\n",
       "      <td>GET /api/v1/sales</td>\n",
       "      <td>200</td>\n",
       "      <td>511963</td>\n",
       "      <td>0</td>\n",
       "      <td>python-requests/2.21.0</td>\n",
       "      <td>0.488246</td>\n",
       "      <td>12403</td>\n",
       "      <td>0.887323</td>\n",
       "    </tr>\n",
       "  </tbody>\n",
       "</table>\n",
       "</div>"
      ],
      "text/plain": [
       "                               ip     request_method  status    size  \\\n",
       "timestamp                                                              \n",
       "2019-04-16 19:34:42  97.105.19.58  GET /api/v1/sales     200  512495   \n",
       "2019-04-16 19:34:42  97.105.19.58  GET /api/v1/items     200    3561   \n",
       "2019-04-16 19:34:44  97.105.19.58  GET /api/v1/sales     200  510103   \n",
       "2019-04-16 19:34:46  97.105.19.58  GET /api/v1/sales     200  510003   \n",
       "2019-04-16 19:34:48  97.105.19.58  GET /api/v1/sales     200  511963   \n",
       "\n",
       "                    destination           request_agent   size_mb  \\\n",
       "timestamp                                                           \n",
       "2019-04-16 19:34:42           0  python-requests/2.21.0  0.488753   \n",
       "2019-04-16 19:34:42           0  python-requests/2.21.0  0.003396   \n",
       "2019-04-16 19:34:44           0  python-requests/2.21.0  0.486472   \n",
       "2019-04-16 19:34:46           0  python-requests/2.21.0  0.486377   \n",
       "2019-04-16 19:34:48           0  python-requests/2.21.0  0.488246   \n",
       "\n",
       "                     request_method_count  request_method_proba  \n",
       "timestamp                                                        \n",
       "2019-04-16 19:34:42                 12403              0.887323  \n",
       "2019-04-16 19:34:42                  1065              0.076191  \n",
       "2019-04-16 19:34:44                 12403              0.887323  \n",
       "2019-04-16 19:34:46                 12403              0.887323  \n",
       "2019-04-16 19:34:48                 12403              0.887323  "
      ]
     },
     "execution_count": 30,
     "metadata": {},
     "output_type": "execute_result"
    }
   ],
   "source": [
    "df.head()"
   ]
  },
  {
   "cell_type": "code",
   "execution_count": 39,
   "metadata": {},
   "outputs": [
    {
     "data": {
      "text/plain": [
       "python-requests/2.21.0                                                                                                       12005\n",
       "python-requests/2.20.1                                                                                                        1911\n",
       "Mozilla/5.0 (Macintosh; Intel Mac OS X 10_14_4) AppleWebKit/537.36 (KHTML, like Gecko) Chrome/73.0.3683.103 Safari/537.36       34\n",
       "Mozilla/5.0 (Macintosh; Intel Mac OS X 10.14; rv:66.0) Gecko/20100101 Firefox/66.0                                               8\n",
       "Slackbot-LinkExpanding 1.0 (+https://api.slack.com/robots)                                                                       7\n",
       "Slackbot 1.0 (+https://api.slack.com/robots)                                                                                     6\n",
       "Mozilla/5.0 (Macintosh; Intel Mac OS X 10_14_3) AppleWebKit/537.36 (KHTML, like Gecko) Chrome/73.0.3683.103 Safari/537.36        4\n",
       "Mozilla/5.0 (Macintosh; Intel Mac OS X 10_14_3) AppleWebKit/537.36 (KHTML, like Gecko) Chrome/72.0.3626.121 Safari/537.36        2\n",
       "Python-urllib/3.7                                                                                                                1\n",
       "Name: request_agent, dtype: int64"
      ]
     },
     "execution_count": 39,
     "metadata": {},
     "output_type": "execute_result"
    }
   ],
   "source": [
    "df.request_agent.value_counts()"
   ]
  },
  {
   "cell_type": "code",
   "execution_count": 31,
   "metadata": {},
   "outputs": [
    {
     "data": {
      "text/plain": [
       "0.887323    12403\n",
       "0.076191     1065\n",
       "0.016383      229\n",
       "0.007655      107\n",
       "0.007154      100\n",
       "0.001860       26\n",
       "0.000787       11\n",
       "0.000072        7\n",
       "0.000501        7\n",
       "0.000215        6\n",
       "0.000429        6\n",
       "0.000358        5\n",
       "0.000286        4\n",
       "0.000143        2\n",
       "Name: request_method_proba, dtype: int64"
      ]
     },
     "execution_count": 31,
     "metadata": {},
     "output_type": "execute_result"
    }
   ],
   "source": [
    "df.request_method_proba.value_counts()"
   ]
  },
  {
   "cell_type": "markdown",
   "metadata": {},
   "source": [
    "There is nothing that needs to be filled with zero"
   ]
  },
  {
   "cell_type": "markdown",
   "metadata": {},
   "source": [
    "---\n",
    "\n",
    "### Conditional Probabilities: Probabilities using 2 discrete variables\n",
    "\n",
    "#### Probability of Status given request_method:\n",
    "If we are looking for an unexpected status (like authentication failure) from a known/common IP address. \n",
    "\n",
    "\n",
    "----"
   ]
  },
  {
   "cell_type": "code",
   "execution_count": 32,
   "metadata": {},
   "outputs": [],
   "source": [
    "# prob(A|B) = prob(A & B) / prob(B)"
   ]
  },
  {
   "cell_type": "code",
   "execution_count": 33,
   "metadata": {},
   "outputs": [],
   "source": [
    "request_method_probs = train.groupby('request_method').size().div(len(train))\n",
    "\n",
    "status_given_rm = pd.DataFrame(train.groupby(['request_method', 'status']).size().div(len(train)).\\\n",
    "                              div(request_method_probs,\n",
    "                                 axis=0,\n",
    "                                 level='request_method').\\\n",
    "                              reset_index().\\\n",
    "                              rename(columns={0: 'proba_status_given_rm'})\n",
    "                              )"
   ]
  },
  {
   "cell_type": "code",
   "execution_count": 34,
   "metadata": {},
   "outputs": [],
   "source": [
    "rm_status_count = pd.DataFrame(train.groupby(['ip', 'status'])['request_method'].\\\n",
    "                              count().reset_index().\\\n",
    "                              rename(columns={'request_method': 'rm_status_count'}))\n",
    "\n",
    "\n",
    "rm_status = status_given_rm.merge(rm_status_count)"
   ]
  },
  {
   "cell_type": "code",
   "execution_count": 35,
   "metadata": {},
   "outputs": [
    {
     "data": {
      "text/html": [
       "<div>\n",
       "<style scoped>\n",
       "    .dataframe tbody tr th:only-of-type {\n",
       "        vertical-align: middle;\n",
       "    }\n",
       "\n",
       "    .dataframe tbody tr th {\n",
       "        vertical-align: top;\n",
       "    }\n",
       "\n",
       "    .dataframe thead th {\n",
       "        text-align: right;\n",
       "    }\n",
       "</style>\n",
       "<table border=\"1\" class=\"dataframe\">\n",
       "  <thead>\n",
       "    <tr style=\"text-align: right;\">\n",
       "      <th></th>\n",
       "      <th>request_method</th>\n",
       "      <th>status</th>\n",
       "      <th>proba_status_given_rm</th>\n",
       "      <th>ip</th>\n",
       "      <th>rm_status_count</th>\n",
       "    </tr>\n",
       "  </thead>\n",
       "  <tbody>\n",
       "    <tr>\n",
       "      <th>0</th>\n",
       "      <td>GET /</td>\n",
       "      <td>200</td>\n",
       "      <td>1.000000</td>\n",
       "      <td>173.173.113.51</td>\n",
       "      <td>1059</td>\n",
       "    </tr>\n",
       "    <tr>\n",
       "      <th>1</th>\n",
       "      <td>GET /</td>\n",
       "      <td>200</td>\n",
       "      <td>1.000000</td>\n",
       "      <td>24.26.242.9</td>\n",
       "      <td>21</td>\n",
       "    </tr>\n",
       "    <tr>\n",
       "      <th>2</th>\n",
       "      <td>GET /</td>\n",
       "      <td>200</td>\n",
       "      <td>1.000000</td>\n",
       "      <td>3.88.129.158</td>\n",
       "      <td>1</td>\n",
       "    </tr>\n",
       "    <tr>\n",
       "      <th>3</th>\n",
       "      <td>GET /</td>\n",
       "      <td>200</td>\n",
       "      <td>1.000000</td>\n",
       "      <td>3.92.201.136</td>\n",
       "      <td>1</td>\n",
       "    </tr>\n",
       "    <tr>\n",
       "      <th>4</th>\n",
       "      <td>GET /</td>\n",
       "      <td>200</td>\n",
       "      <td>1.000000</td>\n",
       "      <td>34.207.64.242</td>\n",
       "      <td>1</td>\n",
       "    </tr>\n",
       "    <tr>\n",
       "      <th>...</th>\n",
       "      <td>...</td>\n",
       "      <td>...</td>\n",
       "      <td>...</td>\n",
       "      <td>...</td>\n",
       "      <td>...</td>\n",
       "    </tr>\n",
       "    <tr>\n",
       "      <th>379</th>\n",
       "      <td>GET /favicon.ico</td>\n",
       "      <td>200</td>\n",
       "      <td>1.000000</td>\n",
       "      <td>97.105.19.58</td>\n",
       "      <td>11984</td>\n",
       "    </tr>\n",
       "    <tr>\n",
       "      <th>380</th>\n",
       "      <td>GET /api/v1/items</td>\n",
       "      <td>499</td>\n",
       "      <td>0.003756</td>\n",
       "      <td>72.181.113.170</td>\n",
       "      <td>2</td>\n",
       "    </tr>\n",
       "    <tr>\n",
       "      <th>381</th>\n",
       "      <td>GET /api/v1/items</td>\n",
       "      <td>499</td>\n",
       "      <td>0.003756</td>\n",
       "      <td>97.105.19.58</td>\n",
       "      <td>14</td>\n",
       "    </tr>\n",
       "    <tr>\n",
       "      <th>382</th>\n",
       "      <td>GET /api/v1/sales</td>\n",
       "      <td>499</td>\n",
       "      <td>0.000968</td>\n",
       "      <td>72.181.113.170</td>\n",
       "      <td>2</td>\n",
       "    </tr>\n",
       "    <tr>\n",
       "      <th>383</th>\n",
       "      <td>GET /api/v1/sales</td>\n",
       "      <td>499</td>\n",
       "      <td>0.000968</td>\n",
       "      <td>97.105.19.58</td>\n",
       "      <td>14</td>\n",
       "    </tr>\n",
       "  </tbody>\n",
       "</table>\n",
       "<p>384 rows × 5 columns</p>\n",
       "</div>"
      ],
      "text/plain": [
       "        request_method  status  proba_status_given_rm              ip  \\\n",
       "0                GET /     200               1.000000  173.173.113.51   \n",
       "1                GET /     200               1.000000     24.26.242.9   \n",
       "2                GET /     200               1.000000    3.88.129.158   \n",
       "3                GET /     200               1.000000    3.92.201.136   \n",
       "4                GET /     200               1.000000   34.207.64.242   \n",
       "..                 ...     ...                    ...             ...   \n",
       "379   GET /favicon.ico     200               1.000000    97.105.19.58   \n",
       "380  GET /api/v1/items     499               0.003756  72.181.113.170   \n",
       "381  GET /api/v1/items     499               0.003756    97.105.19.58   \n",
       "382  GET /api/v1/sales     499               0.000968  72.181.113.170   \n",
       "383  GET /api/v1/sales     499               0.000968    97.105.19.58   \n",
       "\n",
       "     rm_status_count  \n",
       "0               1059  \n",
       "1                 21  \n",
       "2                  1  \n",
       "3                  1  \n",
       "4                  1  \n",
       "..               ...  \n",
       "379            11984  \n",
       "380                2  \n",
       "381               14  \n",
       "382                2  \n",
       "383               14  \n",
       "\n",
       "[384 rows x 5 columns]"
      ]
     },
     "execution_count": 35,
     "metadata": {},
     "output_type": "execute_result"
    }
   ],
   "source": [
    "rm_status\n"
   ]
  },
  {
   "cell_type": "code",
   "execution_count": 36,
   "metadata": {},
   "outputs": [
    {
     "data": {
      "text/html": [
       "<div>\n",
       "<style scoped>\n",
       "    .dataframe tbody tr th:only-of-type {\n",
       "        vertical-align: middle;\n",
       "    }\n",
       "\n",
       "    .dataframe tbody tr th {\n",
       "        vertical-align: top;\n",
       "    }\n",
       "\n",
       "    .dataframe thead th {\n",
       "        text-align: right;\n",
       "    }\n",
       "</style>\n",
       "<table border=\"1\" class=\"dataframe\">\n",
       "  <thead>\n",
       "    <tr style=\"text-align: right;\">\n",
       "      <th></th>\n",
       "      <th>ip</th>\n",
       "      <th>request_method</th>\n",
       "      <th>status</th>\n",
       "      <th>size</th>\n",
       "      <th>destination</th>\n",
       "      <th>request_agent</th>\n",
       "      <th>size_mb</th>\n",
       "      <th>request_method_count</th>\n",
       "      <th>request_method_proba</th>\n",
       "    </tr>\n",
       "    <tr>\n",
       "      <th>timestamp</th>\n",
       "      <th></th>\n",
       "      <th></th>\n",
       "      <th></th>\n",
       "      <th></th>\n",
       "      <th></th>\n",
       "      <th></th>\n",
       "      <th></th>\n",
       "      <th></th>\n",
       "      <th></th>\n",
       "    </tr>\n",
       "  </thead>\n",
       "  <tbody>\n",
       "    <tr>\n",
       "      <th>2019-04-16 19:34:42</th>\n",
       "      <td>97.105.19.58</td>\n",
       "      <td>GET /api/v1/sales</td>\n",
       "      <td>200</td>\n",
       "      <td>512495</td>\n",
       "      <td>0</td>\n",
       "      <td>python-requests/2.21.0</td>\n",
       "      <td>0.488753</td>\n",
       "      <td>12403</td>\n",
       "      <td>0.887323</td>\n",
       "    </tr>\n",
       "  </tbody>\n",
       "</table>\n",
       "</div>"
      ],
      "text/plain": [
       "                               ip     request_method  status    size  \\\n",
       "timestamp                                                              \n",
       "2019-04-16 19:34:42  97.105.19.58  GET /api/v1/sales     200  512495   \n",
       "\n",
       "                    destination           request_agent   size_mb  \\\n",
       "timestamp                                                           \n",
       "2019-04-16 19:34:42           0  python-requests/2.21.0  0.488753   \n",
       "\n",
       "                     request_method_count  request_method_proba  \n",
       "timestamp                                                        \n",
       "2019-04-16 19:34:42                 12403              0.887323  "
      ]
     },
     "execution_count": 36,
     "metadata": {},
     "output_type": "execute_result"
    }
   ],
   "source": [
    "df.head(1)"
   ]
  },
  {
   "cell_type": "markdown",
   "metadata": {},
   "source": [
    "#### Add these probabilities to original events to detect anomalous events:"
   ]
  },
  {
   "cell_type": "code",
   "execution_count": 37,
   "metadata": {},
   "outputs": [
    {
     "data": {
      "image/png": "[encoded data removed]",
      "text/plain": [
       "<Figure size 432x288 with 1 Axes>"
      ]
     },
     "metadata": {
      "needs_background": "light"
     },
     "output_type": "display_data"
    }
   ],
   "source": [
    "# scatter plot\n",
    "plt.scatter(df.size_mb, df.request_method_proba)\n",
    "plt.show()"
   ]
  },
  {
   "cell_type": "code",
   "execution_count": null,
   "metadata": {},
   "outputs": [],
   "source": []
  },
  {
   "cell_type": "code",
   "execution_count": null,
   "metadata": {},
   "outputs": [],
   "source": []
  },
  {
   "cell_type": "code",
   "execution_count": null,
   "metadata": {},
   "outputs": [],
   "source": []
  }
 ],
 "metadata": {
  "kernelspec": {
   "display_name": "Python 3",
   "language": "python",
   "name": "python3"
  },
  "language_info": {
   "codemirror_mode": {
    "name": "ipython",
    "version": 3
   },
   "file_extension": ".py",
   "mimetype": "text/x-python",
   "name": "python",
   "nbconvert_exporter": "python",
   "pygments_lexer": "ipython3",
   "version": "3.8.5"
  }
 },
 "nbformat": 4,
 "nbformat_minor": 4
}
